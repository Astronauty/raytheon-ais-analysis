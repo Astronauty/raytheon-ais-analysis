{
 "cells": [
  {
   "cell_type": "markdown",
   "id": "30628642",
   "metadata": {},
   "source": [
    "## Load in data"
   ]
  },
  {
   "cell_type": "code",
   "execution_count": 94,
   "id": "f9dc4da7",
   "metadata": {},
   "outputs": [
    {
     "name": "stdout",
     "output_type": "stream",
     "text": [
      "The autoreload extension is already loaded. To reload it, use:\n",
      "  %reload_ext autoreload\n",
      "Using device: cpu\n"
     ]
    }
   ],
   "source": [
    "%load_ext autoreload\n",
    "%autoreload 2\n",
    "from ais_dataloader import *\n",
    "from gp_kernel_ship_classification_dataset import *\n",
    "from gp_kernel_ship_classification_trainer import *\n",
    "from gp_kernel_ship_classification_network import *\n",
    "\n",
    "import ipywidgets as widgets\n",
    "from IPython.display import display\n",
    "from plotting_utils import *\n",
    "\n",
    "\n",
    "\n",
    "device = torch.device(\"cuda\" if torch.cuda.is_available() else \"cpu\")\n",
    "print(f\"Using device: {device}\")"
   ]
  },
  {
   "cell_type": "code",
   "execution_count": 49,
   "id": "7aeaa839",
   "metadata": {},
   "outputs": [
    {
     "name": "stdout",
     "output_type": "stream",
     "text": [
      "Loading cached dataframe from data/processed/processed_AIS_df_2024_01_01_2024_01_01.pkl\n"
     ]
    },
    {
     "name": "stderr",
     "output_type": "stream",
     "text": [
      "Scaling trajectories for each MMSI: 100%|██████████| 3453/3453 [00:01<00:00, 3213.55it/s]\n"
     ]
    },
    {
     "name": "stdout",
     "output_type": "stream",
     "text": [
      "\n",
      "===== Dataset Statistics =====\n",
      "Total number of AIS messages: 2128288\n",
      "Number of unique MMSIs: 3453\n",
      "Date range: 2024-01-01 00:00:00 to 2024-01-01 23:59:59\n"
     ]
    }
   ],
   "source": [
    "date_range = pd.date_range(start='2024-01-01', end='2024-01-01', freq='D')\n",
    "gp_regression_dataset = AISTrajectoryRegressionDataset(date_range, device)\n"
   ]
  },
  {
   "cell_type": "markdown",
   "id": "c551b8b6",
   "metadata": {},
   "source": [
    "## Fit GP Models"
   ]
  },
  {
   "cell_type": "code",
   "execution_count": null,
   "id": "c4d1db10",
   "metadata": {},
   "outputs": [
    {
     "name": "stdout",
     "output_type": "stream",
     "text": [
      "\n",
      "Fitting GP for trajectory 1/100 for MMSI 3660489\n"
     ]
    },
    {
     "name": "stderr",
     "output_type": "stream",
     "text": [
      "GP Training Progress:   0%|          | 0/100 [00:00<?, ?it/s]/opt/homebrew/Caskroom/miniconda/base/envs/gp/lib/python3.13/site-packages/linear_operator/utils/cholesky.py:40: NumericalWarning: A not p.d., added jitter of 1.0e-03 to the diagonal\n",
      "  warnings.warn(\n",
      "GP Training Progress: 100%|██████████| 100/100 [00:00<00:00, 187.32it/s]\n"
     ]
    },
    {
     "name": "stdout",
     "output_type": "stream",
     "text": [
      "Loss: 1.1078234910964966\n",
      "\n",
      "Fitting GP for trajectory 2/100 for MMSI 203661016\n"
     ]
    },
    {
     "name": "stderr",
     "output_type": "stream",
     "text": [
      "GP Training Progress: 100%|██████████| 100/100 [00:04<00:00, 22.71it/s]\n"
     ]
    },
    {
     "name": "stdout",
     "output_type": "stream",
     "text": [
      "Loss: 1.0687633752822876\n",
      "\n",
      "Fitting GP for trajectory 3/100 for MMSI 205691000\n"
     ]
    },
    {
     "name": "stderr",
     "output_type": "stream",
     "text": [
      "GP Training Progress: 100%|██████████| 100/100 [00:07<00:00, 12.75it/s]\n"
     ]
    },
    {
     "name": "stdout",
     "output_type": "stream",
     "text": [
      "Loss: 0.8039560317993164\n",
      "\n",
      "Fitting GP for trajectory 4/100 for MMSI 205717000\n"
     ]
    },
    {
     "name": "stderr",
     "output_type": "stream",
     "text": [
      "GP Training Progress: 100%|██████████| 100/100 [00:05<00:00, 17.89it/s]\n"
     ]
    },
    {
     "name": "stdout",
     "output_type": "stream",
     "text": [
      "Loss: 0.9143831729888916\n",
      "\n",
      "Fitting GP for trajectory 5/100 for MMSI 209156000\n"
     ]
    },
    {
     "name": "stderr",
     "output_type": "stream",
     "text": [
      "GP Training Progress: 100%|██████████| 100/100 [00:09<00:00, 10.66it/s]\n"
     ]
    },
    {
     "name": "stdout",
     "output_type": "stream",
     "text": [
      "Loss: 0.8577029705047607\n",
      "\n",
      "Fitting GP for trajectory 6/100 for MMSI 209228000\n"
     ]
    },
    {
     "name": "stderr",
     "output_type": "stream",
     "text": [
      "GP Training Progress: 100%|██████████| 100/100 [00:04<00:00, 22.83it/s]\n"
     ]
    },
    {
     "name": "stdout",
     "output_type": "stream",
     "text": [
      "Loss: 0.9678011536598206\n",
      "\n",
      "Fitting GP for trajectory 7/100 for MMSI 209425000\n"
     ]
    },
    {
     "name": "stderr",
     "output_type": "stream",
     "text": [
      "GP Training Progress: 100%|██████████| 100/100 [00:20<00:00,  4.77it/s]\n"
     ]
    },
    {
     "name": "stdout",
     "output_type": "stream",
     "text": [
      "Loss: 0.7417958974838257\n",
      "\n",
      "Fitting GP for trajectory 8/100 for MMSI 209429000\n"
     ]
    },
    {
     "name": "stderr",
     "output_type": "stream",
     "text": [
      "GP Training Progress: 100%|██████████| 100/100 [00:03<00:00, 31.05it/s]\n"
     ]
    },
    {
     "name": "stdout",
     "output_type": "stream",
     "text": [
      "Loss: 0.9501253366470337\n",
      "\n",
      "Fitting GP for trajectory 9/100 for MMSI 209444000\n"
     ]
    },
    {
     "name": "stderr",
     "output_type": "stream",
     "text": [
      "GP Training Progress: 100%|██████████| 100/100 [00:25<00:00,  3.94it/s]\n"
     ]
    },
    {
     "name": "stdout",
     "output_type": "stream",
     "text": [
      "Loss: 0.755733072757721\n",
      "\n",
      "Fitting GP for trajectory 10/100 for MMSI 209470000\n"
     ]
    },
    {
     "name": "stderr",
     "output_type": "stream",
     "text": [
      "GP Training Progress: 100%|██████████| 100/100 [00:01<00:00, 85.02it/s]\n"
     ]
    },
    {
     "name": "stdout",
     "output_type": "stream",
     "text": [
      "Loss: 0.8734135031700134\n",
      "\n",
      "Fitting GP for trajectory 11/100 for MMSI 209513000\n"
     ]
    },
    {
     "name": "stderr",
     "output_type": "stream",
     "text": [
      "GP Training Progress: 100%|██████████| 100/100 [00:26<00:00,  3.83it/s]\n"
     ]
    },
    {
     "name": "stdout",
     "output_type": "stream",
     "text": [
      "Loss: 0.7495151162147522\n",
      "\n",
      "Fitting GP for trajectory 12/100 for MMSI 209550000\n"
     ]
    },
    {
     "name": "stderr",
     "output_type": "stream",
     "text": [
      "GP Training Progress: 100%|██████████| 100/100 [00:27<00:00,  3.69it/s]\n"
     ]
    },
    {
     "name": "stdout",
     "output_type": "stream",
     "text": [
      "Loss: 0.7088612914085388\n",
      "\n",
      "Fitting GP for trajectory 13/100 for MMSI 209641000\n"
     ]
    },
    {
     "name": "stderr",
     "output_type": "stream",
     "text": [
      "GP Training Progress: 100%|██████████| 100/100 [00:04<00:00, 21.98it/s]\n"
     ]
    },
    {
     "name": "stdout",
     "output_type": "stream",
     "text": [
      "Loss: 0.9428096413612366\n",
      "\n",
      "Fitting GP for trajectory 14/100 for MMSI 209705000\n"
     ]
    },
    {
     "name": "stderr",
     "output_type": "stream",
     "text": [
      "GP Training Progress: 100%|██████████| 100/100 [00:01<00:00, 63.29it/s]\n"
     ]
    },
    {
     "name": "stdout",
     "output_type": "stream",
     "text": [
      "Loss: 0.8735288381576538\n",
      "\n",
      "Fitting GP for trajectory 15/100 for MMSI 209729000\n"
     ]
    },
    {
     "name": "stderr",
     "output_type": "stream",
     "text": [
      "GP Training Progress: 100%|██████████| 100/100 [00:00<00:00, 137.30it/s]\n"
     ]
    },
    {
     "name": "stdout",
     "output_type": "stream",
     "text": [
      "Loss: 1.080646276473999\n",
      "\n",
      "Fitting GP for trajectory 16/100 for MMSI 209786000\n"
     ]
    },
    {
     "name": "stderr",
     "output_type": "stream",
     "text": [
      "GP Training Progress: 100%|██████████| 100/100 [00:31<00:00,  3.16it/s]\n"
     ]
    },
    {
     "name": "stdout",
     "output_type": "stream",
     "text": [
      "Loss: 0.7393811941146851\n",
      "\n",
      "Fitting GP for trajectory 17/100 for MMSI 209888000\n"
     ]
    },
    {
     "name": "stderr",
     "output_type": "stream",
     "text": [
      "GP Training Progress: 100%|██████████| 100/100 [00:03<00:00, 30.57it/s]\n"
     ]
    },
    {
     "name": "stdout",
     "output_type": "stream",
     "text": [
      "Loss: 0.7613688111305237\n",
      "\n",
      "Fitting GP for trajectory 18/100 for MMSI 209933000\n"
     ]
    },
    {
     "name": "stderr",
     "output_type": "stream",
     "text": [
      "GP Training Progress: 100%|██████████| 100/100 [00:05<00:00, 16.95it/s]\n"
     ]
    },
    {
     "name": "stdout",
     "output_type": "stream",
     "text": [
      "Loss: 1.1045637130737305\n",
      "\n",
      "Fitting GP for trajectory 19/100 for MMSI 209997000\n"
     ]
    },
    {
     "name": "stderr",
     "output_type": "stream",
     "text": [
      "GP Training Progress: 100%|██████████| 100/100 [00:00<00:00, 227.77it/s]\n"
     ]
    },
    {
     "name": "stdout",
     "output_type": "stream",
     "text": [
      "Loss: 0.9791954159736633\n",
      "\n",
      "Fitting GP for trajectory 20/100 for MMSI 210185000\n"
     ]
    },
    {
     "name": "stderr",
     "output_type": "stream",
     "text": [
      "GP Training Progress: 100%|██████████| 100/100 [00:05<00:00, 18.20it/s]\n"
     ]
    },
    {
     "name": "stdout",
     "output_type": "stream",
     "text": [
      "Loss: 0.9444566965103149\n",
      "\n",
      "Fitting GP for trajectory 21/100 for MMSI 210478000\n"
     ]
    },
    {
     "name": "stderr",
     "output_type": "stream",
     "text": [
      "GP Training Progress: 100%|██████████| 100/100 [00:25<00:00,  3.89it/s]\n"
     ]
    },
    {
     "name": "stdout",
     "output_type": "stream",
     "text": [
      "Loss: 0.7994800209999084\n",
      "\n",
      "Fitting GP for trajectory 22/100 for MMSI 210499000\n"
     ]
    },
    {
     "name": "stderr",
     "output_type": "stream",
     "text": [
      "GP Training Progress: 100%|██████████| 100/100 [00:04<00:00, 24.32it/s]\n"
     ]
    },
    {
     "name": "stdout",
     "output_type": "stream",
     "text": [
      "Loss: 0.9940799474716187\n",
      "\n",
      "Fitting GP for trajectory 23/100 for MMSI 210568000\n"
     ]
    },
    {
     "name": "stderr",
     "output_type": "stream",
     "text": [
      "GP Training Progress: 100%|██████████| 100/100 [00:00<00:00, 133.97it/s]\n"
     ]
    },
    {
     "name": "stdout",
     "output_type": "stream",
     "text": [
      "Loss: 1.2477079629898071\n",
      "\n",
      "Fitting GP for trajectory 24/100 for MMSI 210614000\n"
     ]
    },
    {
     "name": "stderr",
     "output_type": "stream",
     "text": [
      "GP Training Progress: 100%|██████████| 100/100 [00:05<00:00, 18.76it/s]\n"
     ]
    },
    {
     "name": "stdout",
     "output_type": "stream",
     "text": [
      "Loss: 1.226464033126831\n",
      "\n",
      "Fitting GP for trajectory 25/100 for MMSI 210737000\n"
     ]
    },
    {
     "name": "stderr",
     "output_type": "stream",
     "text": [
      "GP Training Progress: 100%|██████████| 100/100 [00:03<00:00, 26.92it/s]\n"
     ]
    },
    {
     "name": "stdout",
     "output_type": "stream",
     "text": [
      "Loss: 0.9553667902946472\n",
      "\n",
      "Fitting GP for trajectory 26/100 for MMSI 210959000\n"
     ]
    },
    {
     "name": "stderr",
     "output_type": "stream",
     "text": [
      "GP Training Progress: 100%|██████████| 100/100 [00:00<00:00, 203.78it/s]\n"
     ]
    },
    {
     "name": "stdout",
     "output_type": "stream",
     "text": [
      "Loss: 0.9057654142379761\n",
      "\n",
      "Fitting GP for trajectory 27/100 for MMSI 212370000\n"
     ]
    },
    {
     "name": "stderr",
     "output_type": "stream",
     "text": [
      "GP Training Progress: 100%|██████████| 100/100 [00:00<00:00, 143.37it/s]\n"
     ]
    },
    {
     "name": "stdout",
     "output_type": "stream",
     "text": [
      "Loss: 0.9788849949836731\n",
      "\n",
      "Fitting GP for trajectory 28/100 for MMSI 212482000\n"
     ]
    },
    {
     "name": "stderr",
     "output_type": "stream",
     "text": [
      "GP Training Progress: 100%|██████████| 100/100 [00:00<00:00, 293.73it/s]\n"
     ]
    },
    {
     "name": "stdout",
     "output_type": "stream",
     "text": [
      "Loss: 1.1359623670578003\n",
      "\n",
      "Fitting GP for trajectory 29/100 for MMSI 212656000\n"
     ]
    },
    {
     "name": "stderr",
     "output_type": "stream",
     "text": [
      "GP Training Progress: 100%|██████████| 100/100 [00:01<00:00, 52.12it/s]\n"
     ]
    },
    {
     "name": "stdout",
     "output_type": "stream",
     "text": [
      "Loss: 1.3011102676391602\n",
      "\n",
      "Fitting GP for trajectory 30/100 for MMSI 212719000\n"
     ]
    },
    {
     "name": "stderr",
     "output_type": "stream",
     "text": [
      "GP Training Progress: 100%|██████████| 100/100 [00:45<00:00,  2.21it/s]\n"
     ]
    },
    {
     "name": "stdout",
     "output_type": "stream",
     "text": [
      "Loss: 0.7306892275810242\n",
      "\n",
      "Fitting GP for trajectory 31/100 for MMSI 212775000\n"
     ]
    },
    {
     "name": "stderr",
     "output_type": "stream",
     "text": [
      "GP Training Progress: 100%|██████████| 100/100 [00:05<00:00, 17.24it/s]\n"
     ]
    },
    {
     "name": "stdout",
     "output_type": "stream",
     "text": [
      "Loss: 1.027761459350586\n",
      "\n",
      "Fitting GP for trajectory 32/100 for MMSI 215001000\n"
     ]
    },
    {
     "name": "stderr",
     "output_type": "stream",
     "text": [
      "GP Training Progress: 100%|██████████| 100/100 [00:00<00:00, 182.87it/s]\n"
     ]
    },
    {
     "name": "stdout",
     "output_type": "stream",
     "text": [
      "Loss: 1.0756016969680786\n",
      "\n",
      "Fitting GP for trajectory 33/100 for MMSI 215105000\n"
     ]
    },
    {
     "name": "stderr",
     "output_type": "stream",
     "text": [
      "GP Training Progress: 100%|██████████| 100/100 [00:06<00:00, 16.12it/s]\n"
     ]
    },
    {
     "name": "stdout",
     "output_type": "stream",
     "text": [
      "Loss: 0.7610818147659302\n",
      "\n",
      "Fitting GP for trajectory 34/100 for MMSI 215126000\n"
     ]
    },
    {
     "name": "stderr",
     "output_type": "stream",
     "text": [
      "GP Training Progress: 100%|██████████| 100/100 [00:10<00:00,  9.36it/s]\n"
     ]
    },
    {
     "name": "stdout",
     "output_type": "stream",
     "text": [
      "Loss: 0.818392276763916\n",
      "\n",
      "Fitting GP for trajectory 35/100 for MMSI 215139000\n"
     ]
    },
    {
     "name": "stderr",
     "output_type": "stream",
     "text": [
      "GP Training Progress: 100%|██████████| 100/100 [00:09<00:00, 10.13it/s]\n"
     ]
    },
    {
     "name": "stdout",
     "output_type": "stream",
     "text": [
      "Loss: 0.8420707583427429\n",
      "\n",
      "Fitting GP for trajectory 36/100 for MMSI 215159000\n"
     ]
    },
    {
     "name": "stderr",
     "output_type": "stream",
     "text": [
      "GP Training Progress: 100%|██████████| 100/100 [00:04<00:00, 22.70it/s]\n"
     ]
    },
    {
     "name": "stdout",
     "output_type": "stream",
     "text": [
      "Loss: 0.9947741031646729\n",
      "\n",
      "Fitting GP for trajectory 37/100 for MMSI 215193000\n"
     ]
    },
    {
     "name": "stderr",
     "output_type": "stream",
     "text": [
      "GP Training Progress: 100%|██████████| 100/100 [00:08<00:00, 11.46it/s]\n"
     ]
    },
    {
     "name": "stdout",
     "output_type": "stream",
     "text": [
      "Loss: 0.834104597568512\n",
      "\n",
      "Fitting GP for trajectory 38/100 for MMSI 215217000\n"
     ]
    },
    {
     "name": "stderr",
     "output_type": "stream",
     "text": [
      "GP Training Progress: 100%|██████████| 100/100 [00:11<00:00,  8.97it/s]\n"
     ]
    },
    {
     "name": "stdout",
     "output_type": "stream",
     "text": [
      "Loss: 0.9177435636520386\n",
      "\n",
      "Fitting GP for trajectory 39/100 for MMSI 215534000\n"
     ]
    },
    {
     "name": "stderr",
     "output_type": "stream",
     "text": [
      "GP Training Progress: 100%|██████████| 100/100 [00:01<00:00, 62.87it/s]\n"
     ]
    },
    {
     "name": "stdout",
     "output_type": "stream",
     "text": [
      "Loss: 0.8753194212913513\n",
      "\n",
      "Fitting GP for trajectory 40/100 for MMSI 215561000\n"
     ]
    },
    {
     "name": "stderr",
     "output_type": "stream",
     "text": [
      "GP Training Progress: 100%|██████████| 100/100 [00:05<00:00, 19.29it/s]\n"
     ]
    },
    {
     "name": "stdout",
     "output_type": "stream",
     "text": [
      "Loss: 0.8951831459999084\n",
      "\n",
      "Fitting GP for trajectory 41/100 for MMSI 215726000\n"
     ]
    },
    {
     "name": "stderr",
     "output_type": "stream",
     "text": [
      "GP Training Progress: 100%|██████████| 100/100 [00:04<00:00, 23.45it/s]\n"
     ]
    },
    {
     "name": "stdout",
     "output_type": "stream",
     "text": [
      "Loss: 0.9424835443496704\n",
      "\n",
      "Fitting GP for trajectory 42/100 for MMSI 215754000\n"
     ]
    },
    {
     "name": "stderr",
     "output_type": "stream",
     "text": [
      "GP Training Progress: 100%|██████████| 100/100 [00:00<00:00, 114.25it/s]\n"
     ]
    },
    {
     "name": "stdout",
     "output_type": "stream",
     "text": [
      "Loss: 0.8866640329360962\n",
      "\n",
      "Fitting GP for trajectory 43/100 for MMSI 215765000\n"
     ]
    },
    {
     "name": "stderr",
     "output_type": "stream",
     "text": [
      "GP Training Progress: 100%|██████████| 100/100 [00:05<00:00, 19.90it/s]\n"
     ]
    },
    {
     "name": "stdout",
     "output_type": "stream",
     "text": [
      "Loss: 0.9410210847854614\n",
      "\n",
      "Fitting GP for trajectory 44/100 for MMSI 215785000\n"
     ]
    },
    {
     "name": "stderr",
     "output_type": "stream",
     "text": [
      "GP Training Progress: 100%|██████████| 100/100 [00:03<00:00, 26.06it/s]\n"
     ]
    },
    {
     "name": "stdout",
     "output_type": "stream",
     "text": [
      "Loss: 0.7361562252044678\n",
      "\n",
      "Fitting GP for trajectory 45/100 for MMSI 215797000\n"
     ]
    },
    {
     "name": "stderr",
     "output_type": "stream",
     "text": [
      "GP Training Progress: 100%|██████████| 100/100 [00:10<00:00,  9.35it/s]\n"
     ]
    },
    {
     "name": "stdout",
     "output_type": "stream",
     "text": [
      "Loss: 0.8655849695205688\n",
      "\n",
      "Fitting GP for trajectory 46/100 for MMSI 215804000\n"
     ]
    },
    {
     "name": "stderr",
     "output_type": "stream",
     "text": [
      "GP Training Progress: 100%|██████████| 100/100 [00:03<00:00, 28.96it/s]\n"
     ]
    },
    {
     "name": "stdout",
     "output_type": "stream",
     "text": [
      "Loss: 0.7659711241722107\n",
      "\n",
      "Fitting GP for trajectory 47/100 for MMSI 215809000\n"
     ]
    },
    {
     "name": "stderr",
     "output_type": "stream",
     "text": [
      "GP Training Progress: 100%|██████████| 100/100 [00:01<00:00, 50.04it/s]\n"
     ]
    },
    {
     "name": "stdout",
     "output_type": "stream",
     "text": [
      "Loss: 0.7703059911727905\n",
      "\n",
      "Fitting GP for trajectory 48/100 for MMSI 215854000\n"
     ]
    },
    {
     "name": "stderr",
     "output_type": "stream",
     "text": [
      "GP Training Progress: 100%|██████████| 100/100 [00:05<00:00, 17.25it/s]\n"
     ]
    },
    {
     "name": "stdout",
     "output_type": "stream",
     "text": [
      "Loss: 0.9785612225532532\n",
      "\n",
      "Fitting GP for trajectory 49/100 for MMSI 215876000\n"
     ]
    },
    {
     "name": "stderr",
     "output_type": "stream",
     "text": [
      "GP Training Progress: 100%|██████████| 100/100 [00:03<00:00, 32.46it/s]\n"
     ]
    },
    {
     "name": "stdout",
     "output_type": "stream",
     "text": [
      "Loss: 1.0254721641540527\n",
      "\n",
      "Fitting GP for trajectory 50/100 for MMSI 215879000\n"
     ]
    },
    {
     "name": "stderr",
     "output_type": "stream",
     "text": [
      "GP Training Progress: 100%|██████████| 100/100 [00:01<00:00, 61.69it/s]\n"
     ]
    },
    {
     "name": "stdout",
     "output_type": "stream",
     "text": [
      "Loss: 0.9773473143577576\n",
      "\n",
      "Fitting GP for trajectory 51/100 for MMSI 215896000\n"
     ]
    },
    {
     "name": "stderr",
     "output_type": "stream",
     "text": [
      "GP Training Progress: 100%|██████████| 100/100 [00:00<00:00, 269.45it/s]\n"
     ]
    },
    {
     "name": "stdout",
     "output_type": "stream",
     "text": [
      "Loss: 0.6813071370124817\n",
      "\n",
      "Fitting GP for trajectory 52/100 for MMSI 215939000\n"
     ]
    },
    {
     "name": "stderr",
     "output_type": "stream",
     "text": [
      "GP Training Progress: 100%|██████████| 100/100 [00:04<00:00, 24.64it/s]\n"
     ]
    },
    {
     "name": "stdout",
     "output_type": "stream",
     "text": [
      "Loss: 1.04905104637146\n",
      "\n",
      "Fitting GP for trajectory 53/100 for MMSI 215940000\n"
     ]
    },
    {
     "name": "stderr",
     "output_type": "stream",
     "text": [
      "GP Training Progress: 100%|██████████| 100/100 [00:08<00:00, 11.79it/s]\n"
     ]
    },
    {
     "name": "stdout",
     "output_type": "stream",
     "text": [
      "Loss: 0.8212319016456604\n",
      "\n",
      "Fitting GP for trajectory 54/100 for MMSI 215965000\n"
     ]
    },
    {
     "name": "stderr",
     "output_type": "stream",
     "text": [
      "GP Training Progress: 100%|██████████| 100/100 [00:00<00:00, 304.60it/s]\n"
     ]
    },
    {
     "name": "stdout",
     "output_type": "stream",
     "text": [
      "Loss: 0.5782517790794373\n",
      "\n",
      "Fitting GP for trajectory 55/100 for MMSI 218292000\n"
     ]
    },
    {
     "name": "stderr",
     "output_type": "stream",
     "text": [
      "GP Training Progress: 100%|██████████| 100/100 [00:03<00:00, 27.61it/s]\n"
     ]
    },
    {
     "name": "stdout",
     "output_type": "stream",
     "text": [
      "Loss: 0.9038199186325073\n",
      "\n",
      "Fitting GP for trajectory 56/100 for MMSI 218427000\n"
     ]
    },
    {
     "name": "stderr",
     "output_type": "stream",
     "text": [
      "GP Training Progress: 100%|██████████| 100/100 [00:05<00:00, 19.41it/s]\n"
     ]
    },
    {
     "name": "stdout",
     "output_type": "stream",
     "text": [
      "Loss: 0.9083132743835449\n",
      "\n",
      "Fitting GP for trajectory 57/100 for MMSI 218643000\n"
     ]
    },
    {
     "name": "stderr",
     "output_type": "stream",
     "text": [
      "GP Training Progress: 100%|██████████| 100/100 [00:06<00:00, 15.62it/s]\n"
     ]
    },
    {
     "name": "stdout",
     "output_type": "stream",
     "text": [
      "Loss: 0.8961074948310852\n",
      "\n",
      "Fitting GP for trajectory 58/100 for MMSI 218791000\n"
     ]
    },
    {
     "name": "stderr",
     "output_type": "stream",
     "text": [
      "GP Training Progress: 100%|██████████| 100/100 [00:19<00:00,  5.09it/s]\n"
     ]
    },
    {
     "name": "stdout",
     "output_type": "stream",
     "text": [
      "Loss: 0.7543748021125793\n",
      "\n",
      "Fitting GP for trajectory 59/100 for MMSI 218851000\n"
     ]
    },
    {
     "name": "stderr",
     "output_type": "stream",
     "text": [
      "GP Training Progress: 100%|██████████| 100/100 [00:01<00:00, 94.57it/s]\n"
     ]
    },
    {
     "name": "stdout",
     "output_type": "stream",
     "text": [
      "Loss: 0.834257960319519\n",
      "\n",
      "Fitting GP for trajectory 60/100 for MMSI 219000034\n"
     ]
    },
    {
     "name": "stderr",
     "output_type": "stream",
     "text": [
      "GP Training Progress: 100%|██████████| 100/100 [00:10<00:00,  9.62it/s]\n"
     ]
    },
    {
     "name": "stdout",
     "output_type": "stream",
     "text": [
      "Loss: 0.8394700288772583\n",
      "\n",
      "Fitting GP for trajectory 61/100 for MMSI 219028422\n"
     ]
    },
    {
     "name": "stderr",
     "output_type": "stream",
     "text": [
      "GP Training Progress: 100%|██████████| 100/100 [00:01<00:00, 82.25it/s]\n"
     ]
    },
    {
     "name": "stdout",
     "output_type": "stream",
     "text": [
      "Loss: 0.776862382888794\n",
      "\n",
      "Fitting GP for trajectory 62/100 for MMSI 219029122\n"
     ]
    },
    {
     "name": "stderr",
     "output_type": "stream",
     "text": [
      "GP Training Progress: 100%|██████████| 100/100 [00:31<00:00,  3.14it/s]\n"
     ]
    },
    {
     "name": "stdout",
     "output_type": "stream",
     "text": [
      "Loss: 0.7589831948280334\n",
      "\n",
      "Fitting GP for trajectory 63/100 for MMSI 219031008\n"
     ]
    },
    {
     "name": "stderr",
     "output_type": "stream",
     "text": [
      "GP Training Progress: 100%|██████████| 100/100 [00:00<00:00, 109.27it/s]\n"
     ]
    },
    {
     "name": "stdout",
     "output_type": "stream",
     "text": [
      "Loss: 0.8772634863853455\n",
      "\n",
      "Fitting GP for trajectory 64/100 for MMSI 219031231\n"
     ]
    },
    {
     "name": "stderr",
     "output_type": "stream",
     "text": [
      "GP Training Progress: 100%|██████████| 100/100 [00:04<00:00, 22.08it/s]\n"
     ]
    },
    {
     "name": "stdout",
     "output_type": "stream",
     "text": [
      "Loss: 1.0391451120376587\n",
      "\n",
      "Fitting GP for trajectory 65/100 for MMSI 219130000\n"
     ]
    },
    {
     "name": "stderr",
     "output_type": "stream",
     "text": [
      "GP Training Progress: 100%|██████████| 100/100 [00:51<00:00,  1.95it/s]\n"
     ]
    },
    {
     "name": "stdout",
     "output_type": "stream",
     "text": [
      "Loss: 0.7117136120796204\n",
      "\n",
      "Fitting GP for trajectory 66/100 for MMSI 219256000\n"
     ]
    },
    {
     "name": "stderr",
     "output_type": "stream",
     "text": [
      "GP Training Progress: 100%|██████████| 100/100 [00:06<00:00, 15.37it/s]\n"
     ]
    },
    {
     "name": "stdout",
     "output_type": "stream",
     "text": [
      "Loss: 0.9552637934684753\n",
      "\n",
      "Fitting GP for trajectory 67/100 for MMSI 219287000\n"
     ]
    },
    {
     "name": "stderr",
     "output_type": "stream",
     "text": [
      "GP Training Progress: 100%|██████████| 100/100 [00:05<00:00, 18.93it/s]\n"
     ]
    },
    {
     "name": "stdout",
     "output_type": "stream",
     "text": [
      "Loss: 0.9950878024101257\n",
      "\n",
      "Fitting GP for trajectory 68/100 for MMSI 219310000\n"
     ]
    },
    {
     "name": "stderr",
     "output_type": "stream",
     "text": [
      "GP Training Progress: 100%|██████████| 100/100 [00:41<00:00,  2.40it/s]\n"
     ]
    },
    {
     "name": "stdout",
     "output_type": "stream",
     "text": [
      "Loss: 0.7803823351860046\n",
      "\n",
      "Fitting GP for trajectory 69/100 for MMSI 219412000\n"
     ]
    },
    {
     "name": "stderr",
     "output_type": "stream",
     "text": [
      "GP Training Progress: 100%|██████████| 100/100 [00:21<00:00,  4.72it/s]\n"
     ]
    },
    {
     "name": "stdout",
     "output_type": "stream",
     "text": [
      "Loss: 0.7874492406845093\n",
      "\n",
      "Fitting GP for trajectory 70/100 for MMSI 219432000\n"
     ]
    },
    {
     "name": "stderr",
     "output_type": "stream",
     "text": [
      "GP Training Progress: 100%|██████████| 100/100 [00:01<00:00, 61.57it/s]\n"
     ]
    },
    {
     "name": "stdout",
     "output_type": "stream",
     "text": [
      "Loss: 0.7957141399383545\n",
      "\n",
      "Fitting GP for trajectory 71/100 for MMSI 219445000\n"
     ]
    },
    {
     "name": "stderr",
     "output_type": "stream",
     "text": [
      "GP Training Progress: 100%|██████████| 100/100 [00:04<00:00, 24.34it/s]\n"
     ]
    },
    {
     "name": "stdout",
     "output_type": "stream",
     "text": [
      "Loss: 0.9321490526199341\n",
      "\n",
      "Fitting GP for trajectory 72/100 for MMSI 219454000\n"
     ]
    },
    {
     "name": "stderr",
     "output_type": "stream",
     "text": [
      "GP Training Progress: 100%|██████████| 100/100 [00:04<00:00, 21.07it/s]\n"
     ]
    },
    {
     "name": "stdout",
     "output_type": "stream",
     "text": [
      "Loss: 1.2953239679336548\n",
      "\n",
      "Fitting GP for trajectory 73/100 for MMSI 219456000\n"
     ]
    },
    {
     "name": "stderr",
     "output_type": "stream",
     "text": [
      "GP Training Progress: 100%|██████████| 100/100 [00:48<00:00,  2.08it/s]\n"
     ]
    },
    {
     "name": "stdout",
     "output_type": "stream",
     "text": [
      "Loss: 0.8185746073722839\n",
      "\n",
      "Fitting GP for trajectory 74/100 for MMSI 219558000\n"
     ]
    },
    {
     "name": "stderr",
     "output_type": "stream",
     "text": [
      "GP Training Progress: 100%|██████████| 100/100 [00:04<00:00, 22.01it/s]\n"
     ]
    },
    {
     "name": "stdout",
     "output_type": "stream",
     "text": [
      "Loss: 1.1869332790374756\n",
      "\n",
      "Fitting GP for trajectory 75/100 for MMSI 219605000\n"
     ]
    },
    {
     "name": "stderr",
     "output_type": "stream",
     "text": [
      "GP Training Progress: 100%|██████████| 100/100 [00:04<00:00, 24.24it/s]\n"
     ]
    },
    {
     "name": "stdout",
     "output_type": "stream",
     "text": [
      "Loss: 1.0008972883224487\n",
      "\n",
      "Fitting GP for trajectory 76/100 for MMSI 219671000\n"
     ]
    },
    {
     "name": "stderr",
     "output_type": "stream",
     "text": [
      "GP Training Progress: 100%|██████████| 100/100 [00:01<00:00, 56.27it/s]\n"
     ]
    },
    {
     "name": "stdout",
     "output_type": "stream",
     "text": [
      "Loss: 0.8872231841087341\n",
      "\n",
      "Fitting GP for trajectory 77/100 for MMSI 219674000\n"
     ]
    },
    {
     "name": "stderr",
     "output_type": "stream",
     "text": [
      "GP Training Progress: 100%|██████████| 100/100 [00:04<00:00, 23.77it/s]\n"
     ]
    },
    {
     "name": "stdout",
     "output_type": "stream",
     "text": [
      "Loss: 0.9411225914955139\n",
      "\n",
      "Fitting GP for trajectory 78/100 for MMSI 219840000\n"
     ]
    },
    {
     "name": "stderr",
     "output_type": "stream",
     "text": [
      "GP Training Progress: 100%|██████████| 100/100 [00:00<00:00, 344.94it/s]\n"
     ]
    },
    {
     "name": "stdout",
     "output_type": "stream",
     "text": [
      "Loss: 1.1010100841522217\n",
      "\n",
      "Fitting GP for trajectory 79/100 for MMSI 220590000\n"
     ]
    },
    {
     "name": "stderr",
     "output_type": "stream",
     "text": [
      "GP Training Progress: 100%|██████████| 100/100 [00:04<00:00, 21.89it/s]\n"
     ]
    },
    {
     "name": "stdout",
     "output_type": "stream",
     "text": [
      "Loss: 0.9622023701667786\n",
      "\n",
      "Fitting GP for trajectory 80/100 for MMSI 220636000\n"
     ]
    },
    {
     "name": "stderr",
     "output_type": "stream",
     "text": [
      "GP Training Progress: 100%|██████████| 100/100 [00:00<00:00, 267.63it/s]\n"
     ]
    },
    {
     "name": "stdout",
     "output_type": "stream",
     "text": [
      "Loss: 0.8870916366577148\n",
      "\n",
      "Fitting GP for trajectory 81/100 for MMSI 228337900\n"
     ]
    },
    {
     "name": "stderr",
     "output_type": "stream",
     "text": [
      "GP Training Progress: 100%|██████████| 100/100 [00:37<00:00,  2.64it/s]\n"
     ]
    },
    {
     "name": "stdout",
     "output_type": "stream",
     "text": [
      "Loss: 0.7632695436477661\n",
      "\n",
      "Fitting GP for trajectory 82/100 for MMSI 228391700\n"
     ]
    },
    {
     "name": "stderr",
     "output_type": "stream",
     "text": [
      "GP Training Progress: 100%|██████████| 100/100 [00:07<00:00, 13.67it/s]\n"
     ]
    },
    {
     "name": "stdout",
     "output_type": "stream",
     "text": [
      "Loss: 0.7980597615242004\n",
      "\n",
      "Fitting GP for trajectory 83/100 for MMSI 228421700\n"
     ]
    },
    {
     "name": "stderr",
     "output_type": "stream",
     "text": [
      "GP Training Progress: 100%|██████████| 100/100 [00:08<00:00, 11.81it/s]\n"
     ]
    },
    {
     "name": "stdout",
     "output_type": "stream",
     "text": [
      "Loss: 0.7445303201675415\n",
      "\n",
      "Fitting GP for trajectory 84/100 for MMSI 229074000\n"
     ]
    },
    {
     "name": "stderr",
     "output_type": "stream",
     "text": [
      "GP Training Progress: 100%|██████████| 100/100 [00:27<00:00,  3.59it/s]\n"
     ]
    },
    {
     "name": "stdout",
     "output_type": "stream",
     "text": [
      "Loss: 0.9287002086639404\n",
      "\n",
      "Fitting GP for trajectory 85/100 for MMSI 229081000\n"
     ]
    },
    {
     "name": "stderr",
     "output_type": "stream",
     "text": [
      "GP Training Progress: 100%|██████████| 100/100 [00:50<00:00,  2.00it/s]\n"
     ]
    },
    {
     "name": "stdout",
     "output_type": "stream",
     "text": [
      "Loss: 0.821551501750946\n",
      "\n",
      "Fitting GP for trajectory 86/100 for MMSI 229248000\n"
     ]
    },
    {
     "name": "stderr",
     "output_type": "stream",
     "text": [
      "GP Training Progress: 100%|██████████| 100/100 [00:00<00:00, 238.11it/s]\n"
     ]
    },
    {
     "name": "stdout",
     "output_type": "stream",
     "text": [
      "Loss: 0.9036690592765808\n",
      "\n",
      "Fitting GP for trajectory 87/100 for MMSI 229321000\n"
     ]
    },
    {
     "name": "stderr",
     "output_type": "stream",
     "text": [
      "GP Training Progress: 100%|██████████| 100/100 [00:01<00:00, 90.04it/s]\n"
     ]
    },
    {
     "name": "stdout",
     "output_type": "stream",
     "text": [
      "Loss: 0.7707103490829468\n",
      "\n",
      "Fitting GP for trajectory 88/100 for MMSI 229340000\n"
     ]
    },
    {
     "name": "stderr",
     "output_type": "stream",
     "text": [
      "GP Training Progress: 100%|██████████| 100/100 [00:06<00:00, 15.83it/s]\n"
     ]
    },
    {
     "name": "stdout",
     "output_type": "stream",
     "text": [
      "Loss: 0.8422638773918152\n",
      "\n",
      "Fitting GP for trajectory 89/100 for MMSI 229347000\n"
     ]
    },
    {
     "name": "stderr",
     "output_type": "stream",
     "text": [
      "GP Training Progress: 100%|██████████| 100/100 [00:00<00:00, 270.60it/s]\n"
     ]
    },
    {
     "name": "stdout",
     "output_type": "stream",
     "text": [
      "Loss: 1.1983578205108643\n",
      "\n",
      "Fitting GP for trajectory 90/100 for MMSI 229410000\n"
     ]
    },
    {
     "name": "stderr",
     "output_type": "stream",
     "text": [
      "GP Training Progress: 100%|██████████| 100/100 [00:05<00:00, 18.52it/s]\n"
     ]
    },
    {
     "name": "stdout",
     "output_type": "stream",
     "text": [
      "Loss: 1.067389726638794\n",
      "\n",
      "Fitting GP for trajectory 91/100 for MMSI 229551000\n"
     ]
    },
    {
     "name": "stderr",
     "output_type": "stream",
     "text": [
      "GP Training Progress: 100%|██████████| 100/100 [00:00<00:00, 284.38it/s]\n"
     ]
    },
    {
     "name": "stdout",
     "output_type": "stream",
     "text": [
      "Loss: 0.8405502438545227\n",
      "\n",
      "Fitting GP for trajectory 92/100 for MMSI 229624000\n"
     ]
    },
    {
     "name": "stderr",
     "output_type": "stream",
     "text": [
      "GP Training Progress: 100%|██████████| 100/100 [00:01<00:00, 50.64it/s]\n"
     ]
    },
    {
     "name": "stdout",
     "output_type": "stream",
     "text": [
      "Loss: 0.9216511845588684\n",
      "\n",
      "Fitting GP for trajectory 93/100 for MMSI 229680000\n"
     ]
    },
    {
     "name": "stderr",
     "output_type": "stream",
     "text": [
      "GP Training Progress: 100%|██████████| 100/100 [00:04<00:00, 22.82it/s]\n"
     ]
    },
    {
     "name": "stdout",
     "output_type": "stream",
     "text": [
      "Loss: 1.1969425678253174\n",
      "\n",
      "Fitting GP for trajectory 94/100 for MMSI 229726000\n"
     ]
    },
    {
     "name": "stderr",
     "output_type": "stream",
     "text": [
      "GP Training Progress: 100%|██████████| 100/100 [00:16<00:00,  5.91it/s]\n"
     ]
    },
    {
     "name": "stdout",
     "output_type": "stream",
     "text": [
      "Loss: 0.8346900343894958\n",
      "\n",
      "Fitting GP for trajectory 95/100 for MMSI 229760000\n"
     ]
    },
    {
     "name": "stderr",
     "output_type": "stream",
     "text": [
      "GP Training Progress: 100%|██████████| 100/100 [00:35<00:00,  2.85it/s]\n"
     ]
    },
    {
     "name": "stdout",
     "output_type": "stream",
     "text": [
      "Loss: 0.7187902927398682\n",
      "\n",
      "Fitting GP for trajectory 96/100 for MMSI 229779000\n"
     ]
    },
    {
     "name": "stderr",
     "output_type": "stream",
     "text": [
      "GP Training Progress: 100%|██████████| 100/100 [00:04<00:00, 21.58it/s]\n"
     ]
    },
    {
     "name": "stdout",
     "output_type": "stream",
     "text": [
      "Loss: 0.8376892805099487\n",
      "\n",
      "Fitting GP for trajectory 97/100 for MMSI 229830000\n"
     ]
    },
    {
     "name": "stderr",
     "output_type": "stream",
     "text": [
      "GP Training Progress: 100%|██████████| 100/100 [00:04<00:00, 23.59it/s]\n"
     ]
    },
    {
     "name": "stdout",
     "output_type": "stream",
     "text": [
      "Loss: 1.1457406282424927\n",
      "\n",
      "Fitting GP for trajectory 98/100 for MMSI 229869000\n"
     ]
    },
    {
     "name": "stderr",
     "output_type": "stream",
     "text": [
      "GP Training Progress: 100%|██████████| 100/100 [00:14<00:00,  6.93it/s]\n"
     ]
    },
    {
     "name": "stdout",
     "output_type": "stream",
     "text": [
      "Loss: 0.7765158414840698\n",
      "\n",
      "Fitting GP for trajectory 99/100 for MMSI 229894000\n"
     ]
    },
    {
     "name": "stderr",
     "output_type": "stream",
     "text": [
      "GP Training Progress: 100%|██████████| 100/100 [00:00<00:00, 275.40it/s]\n"
     ]
    },
    {
     "name": "stdout",
     "output_type": "stream",
     "text": [
      "Loss: 1.3274036645889282\n",
      "\n",
      "Fitting GP for trajectory 100/100 for MMSI 229903000\n"
     ]
    },
    {
     "name": "stderr",
     "output_type": "stream",
     "text": [
      "GP Training Progress: 100%|██████████| 100/100 [00:12<00:00,  7.81it/s]"
     ]
    },
    {
     "name": "stdout",
     "output_type": "stream",
     "text": [
      "Loss: 0.8263754844665527\n"
     ]
    },
    {
     "name": "stderr",
     "output_type": "stream",
     "text": [
      "\n"
     ]
    }
   ],
   "source": [
    "import torch\n",
    "import gpytorch\n",
    "from multioutput_gp import *\n",
    "\n",
    "num_trajectories = 3453\n",
    "models = {}\n",
    "likelihoods = {}\n",
    "losses = {}\n",
    "\n",
    "for idx in range(num_trajectories):\n",
    "    # mmsi, times, state_trajectory = gp_regression_dataset[idx]\n",
    "    mmsi, times, state_trajectory = gp_regression_dataset[idx]\n",
    "    \n",
    "    print(f\"\\nFitting GP for trajectory {idx+1}/{num_trajectories} for MMSI {mmsi}\")\n",
    "    \n",
    "    X = times.detach().unsqueeze(1).to(device)\n",
    "    Y = state_trajectory.detach().to(device)\n",
    "    \n",
    "    num_outputs = Y.shape[1]\n",
    "    \n",
    "    likelihood = gpytorch.likelihoods.MultitaskGaussianLikelihood(num_tasks=num_outputs, noise_prior=gpytorch.priors.NormalPrior(loc=0.25, scale=0.25)).to(device)\n",
    "    model = MultiOutputExactGPModel(X, Y, likelihood, num_outputs=num_outputs).to(device)\n",
    "\n",
    "    with gpytorch.settings.cholesky_jitter(1e-3):\n",
    "        loss, model, likelihood = train_model(model, likelihood, X, Y, num_epochs=100, lr=0.1, mmsi=mmsi)\n",
    "\n",
    "    print(f\"Loss: {loss.item()}\")\n",
    "    # models.append(model)\n",
    "    # likelihoods.append(likelihood)\n",
    "    # losses.append(loss.item())\n",
    "    models[mmsi] = model\n",
    "    likelihoods[mmsi] = likelihood\n",
    "    losses[mmsi] = loss.item()"
   ]
  },
  {
   "cell_type": "code",
   "execution_count": 63,
   "id": "b3348467",
   "metadata": {},
   "outputs": [
    {
     "name": "stdout",
     "output_type": "stream",
     "text": [
      "Parameter name: likelihood.raw_task_noises                 value = [-0.6876325607299805, -0.581544041633606, -0.9424332976341248, -0.5385560393333435, -0.9444971680641174, -0.9455525875091553]\n",
      "Parameter name: likelihood.raw_noise                       value = [-0.9224559664726257]\n",
      "Parameter name: mean_module.base_means.0.raw_constant      value = 0.06738271564245224\n",
      "Parameter name: mean_module.base_means.1.raw_constant      value = -0.10569565743207932\n",
      "Parameter name: mean_module.base_means.2.raw_constant      value = -4.691566209658049e-05\n",
      "Parameter name: mean_module.base_means.3.raw_constant      value = 0.0004817449953407049\n",
      "Parameter name: mean_module.base_means.4.raw_constant      value = -0.0001320840819971636\n",
      "Parameter name: mean_module.base_means.5.raw_constant      value = -0.0004329355724621564\n",
      "Parameter name: covar_module.task_covar_module.covar_factor value = [[-0.3279779851436615], [-0.39416366815567017], [-0.001594276400282979], [-0.0971570685505867], [0.010942315682768822], [0.019064215943217278]]\n",
      "Parameter name: covar_module.task_covar_module.raw_var     value = [-2.9546139240264893, -0.29889291524887085, -0.19744057953357697, -2.3586666584014893, -1.5458958148956299, -1.933326005935669]\n",
      "Parameter name: covar_module.data_covar_module.kernels.0.raw_lengthscale value = [[0.8098045587539673]]\n",
      "Parameter name: covar_module.data_covar_module.kernels.1.raw_variance value = [[-0.9669192433357239]]\n",
      "\n",
      "1.1778758764266968\n"
     ]
    }
   ],
   "source": [
    "model = next(iter(models.values()))  # Get one of the models for demonstration\n",
    "for param_name, param in model.named_parameters():\n",
    "    print(f'Parameter name: {param_name:42} value = {param.tolist()}')\n",
    "    \n",
    "print()\n",
    "print(model.covar_module.data_covar_module.kernels[0].lengthscale.item())"
   ]
  },
  {
   "cell_type": "code",
   "execution_count": 64,
   "id": "ae21d291",
   "metadata": {},
   "outputs": [
    {
     "name": "stderr",
     "output_type": "stream",
     "text": [
      "/opt/homebrew/Caskroom/miniconda/base/envs/gp/lib/python3.13/site-packages/linear_operator/utils/cholesky.py:40: NumericalWarning: A not p.d., added jitter of 1.0e-03 to the diagonal\n",
      "  warnings.warn(\n"
     ]
    }
   ],
   "source": [
    "# Set the model and likelihood to evaluation mode\n",
    "model.eval()\n",
    "likelihood.eval()\n",
    "\n",
    "# Generate test inputs (e.g., evenly spaced time points)\n",
    "test_times = torch.linspace(times.min(), times.max(), 200).unsqueeze(1).to(device)\n",
    "\n",
    "# Make predictions\n",
    "with torch.no_grad(), gpytorch.settings.fast_pred_var(), gpytorch.settings.cholesky_jitter(1e-3):\n",
    "    predictions = likelihood(model(test_times))\n",
    "    mean = predictions.mean\n",
    "    lower, upper = predictions.confidence_region()\n",
    "\n"
   ]
  },
  {
   "cell_type": "markdown",
   "id": "cd35f77d",
   "metadata": {},
   "source": [
    "### Plot GP Solution"
   ]
  },
  {
   "cell_type": "code",
   "execution_count": 53,
   "id": "e883a48c",
   "metadata": {},
   "outputs": [],
   "source": [
    "# model.eval()\n",
    "# likelihood.eval()\n",
    "# from plotting_utils import *\n",
    "\n",
    "# for mmsi in models:\n",
    "#     model = models[mmsi]\n",
    "#     likelihood = likelihoods[mmsi]\n",
    "#     # Get the corresponding data for this MMSI\n",
    "#     # If you want to use the same train/test split as before:\n",
    "#     times, state_trajectory = None, None\n",
    "#     for entry in gp_regression_dataset:\n",
    "#         if entry[0] == mmsi:\n",
    "#             _, times, state_trajectory = entry\n",
    "#             break\n",
    "#     if times is None:\n",
    "#         continue  # skip if MMSI not found\n",
    "\n",
    "#     train_X = times.clone().detach().unsqueeze(1).cpu()\n",
    "#     train_Y = state_trajectory.clone().detach().cpu()\n",
    "\n",
    "#     test_X = torch.linspace(times.min(), times.max(), 500).unsqueeze(1).to(device)\n",
    "    \n",
    "#     test_Y = eval_model(model, likelihood, test_X)\n",
    "\n",
    "#     plot_gp(train_X, train_Y, test_X, test_Y)\n",
    "#     plot_single_ship_path(mmsi, times, state_trajectory)\n"
   ]
  },
  {
   "cell_type": "code",
   "execution_count": 54,
   "id": "77a2fe0e",
   "metadata": {},
   "outputs": [],
   "source": [
    "# import ipywidgets as widgets\n",
    "# from IPython.display import display, clear_output\n",
    "# from plotting_utils import *\n",
    "\n",
    "\n",
    "# def plot_for_mmsi(selected_mmsi):\n",
    "#     clear_output(wait=True)\n",
    "#     model = models[selected_mmsi]\n",
    "#     likelihood = likelihoods[selected_mmsi]\n",
    "#     # Get the corresponding data for this MMSI\n",
    "#     times, state_trajectory = None, None\n",
    "#     for entry in gp_regression_dataset:\n",
    "#         if entry[0] == selected_mmsi:\n",
    "#             _, times, state_trajectory = entry\n",
    "#             break\n",
    "#     if times is None:\n",
    "#         print(\"No data for MMSI:\", selected_mmsi)\n",
    "#         return\n",
    "\n",
    "#     train_X = times.clone().detach().unsqueeze(1).cpu()\n",
    "#     train_Y = state_trajectory.clone().detach().cpu()\n",
    "#     test_X = torch.linspace(times.min(), times.max(), 500).unsqueeze(1).to(device)\n",
    "#     test_Y = eval_model(model, likelihood, test_X)\n",
    "\n",
    "#     plot_gp(train_X, train_Y, test_X, test_Y)\n",
    "#     plot_single_ship_path(selected_mmsi, times, state_trajectory)\n",
    "\n",
    "    \n",
    "# mmsi_dropdown = widgets.Dropdown(\n",
    "#     options=list(models.keys()),\n",
    "#     description='MMSI:',\n",
    "#     disabled=False,\n",
    "# )\n",
    "\n",
    "# widgets.interact(plot_for_mmsi, selected_mmsi=mmsi_dropdown)\n",
    "    \n",
    "    \n",
    "    "
   ]
  },
  {
   "cell_type": "code",
   "execution_count": 55,
   "id": "184358b1",
   "metadata": {},
   "outputs": [
    {
     "name": "stdout",
     "output_type": "stream",
     "text": [
      "[367669550 367118980 636018568 ... 367619000 309108000 368926390]\n"
     ]
    },
    {
     "data": {
      "text/plain": [
       "'Other'"
      ]
     },
     "execution_count": 55,
     "metadata": {},
     "output_type": "execute_result"
    }
   ],
   "source": [
    "print(pd.unique(gp_regression_dataset.df['MMSI'].values))\n",
    "gp_regression_dataset.get_vessel_group_by_mmsi(3660489)"
   ]
  },
  {
   "cell_type": "markdown",
   "id": "2b57b1a0",
   "metadata": {},
   "source": [
    "## Create the kernel param to ship mmsi dataset\n"
   ]
  },
  {
   "cell_type": "code",
   "execution_count": 95,
   "id": "3702e440",
   "metadata": {},
   "outputs": [],
   "source": [
    "kernel_classification_dataset = GPKernelShipClassificationDataset(gp_regression_dataset, models, device)\n",
    "unique_group_ids = kernel_classification_dataset.get_unique_group_ids()\n",
    "\n",
    "train_classification_dataset, test_classification_dataset = torch.utils.data.random_split(kernel_classification_dataset, [0.8, 0.2])\n",
    "train_loader = torch.utils.data.DataLoader(train_classification_dataset, batch_size=32, shuffle=True)\n",
    "test_loader = torch.utils.data.DataLoader(test_classification_dataset, batch_size=32, shuffle=False)"
   ]
  },
  {
   "cell_type": "markdown",
   "id": "4fcd143d",
   "metadata": {},
   "source": [
    "## Train the classification model"
   ]
  },
  {
   "cell_type": "code",
   "execution_count": 100,
   "id": "8fb38217",
   "metadata": {},
   "outputs": [
    {
     "name": "stdout",
     "output_type": "stream",
     "text": [
      "Epoch 500/500 | Train Loss: 0.6812 | Train Acc: 0.7500 | Test Loss: 4.4817 | Test Acc: 0.4000\n"
     ]
    }
   ],
   "source": [
    "from gp_kernel_ship_classification_network import GPKernelShipClassificationNetwork\n",
    "model = GPKernelShipClassificationNetwork(input_dim=2, num_classes=max(unique_group_ids) + 1)  # +1 for background class\n",
    "\n",
    "criterion = torch.nn.CrossEntropyLoss()\n",
    "optimizer = torch.optim.Adam(model.parameters(), lr=0.01)\n",
    "\n",
    "trainer = GPKernelShipClassificationTrainer(model, train_loader, test_loader, criterion, optimizer, device)\n",
    "trainer.train(num_epochs=500)"
   ]
  },
  {
   "cell_type": "code",
   "execution_count": null,
   "id": "a2093299",
   "metadata": {},
   "outputs": [],
   "source": []
  },
  {
   "cell_type": "code",
   "execution_count": null,
   "id": "7c29bea2",
   "metadata": {},
   "outputs": [],
   "source": []
  },
  {
   "cell_type": "code",
   "execution_count": null,
   "id": "71fbb34d",
   "metadata": {},
   "outputs": [],
   "source": []
  }
 ],
 "metadata": {
  "kernelspec": {
   "display_name": "gp",
   "language": "python",
   "name": "python3"
  },
  "language_info": {
   "codemirror_mode": {
    "name": "ipython",
    "version": 3
   },
   "file_extension": ".py",
   "mimetype": "text/x-python",
   "name": "python",
   "nbconvert_exporter": "python",
   "pygments_lexer": "ipython3",
   "version": "3.13.2"
  }
 },
 "nbformat": 4,
 "nbformat_minor": 5
}
