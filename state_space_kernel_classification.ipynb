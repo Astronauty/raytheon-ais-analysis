{
 "cells": [
  {
   "cell_type": "code",
   "execution_count": 20,
   "id": "f9dc4da7",
   "metadata": {},
   "outputs": [
    {
     "name": "stdout",
     "output_type": "stream",
     "text": [
      "The autoreload extension is already loaded. To reload it, use:\n",
      "  %reload_ext autoreload\n",
      "Using device: cuda\n"
     ]
    }
   ],
   "source": [
    "from ais_dataloader import *\n",
    "from gp_kernel_ship_classification_dataset import *\n",
    "from gp_kernel_ship_classification_trainer import *\n",
    "from gp_kernel_ship_classification_network import *\n",
    "\n",
    "import time\n",
    "import gc\n",
    "import torch\n",
    "import gpytorch\n",
    "from torch.profiler import profile, record_function, ProfilerActivity\n",
    "import ipywidgets as widgets\n",
    "from IPython.display import display\n",
    "from plotting_utils import *\n",
    "from state_space_kernel import *\n",
    "\n",
    "from multioutput_state_space_gp import *\n",
    "from state_space_kernel import *\n",
    "from plotting_utils import *\n",
    "\n",
    "\n",
    "%load_ext autoreload\n",
    "%autoreload 2\n",
    "\n",
    "\n",
    "device = torch.device(\"cuda\" if torch.cuda.is_available() else \"cpu\")\n",
    "# device = torch.device(\"cpu\")  # Force CPU for debugging\n",
    "print(f\"Using device: {device}\")"
   ]
  },
  {
   "cell_type": "markdown",
   "id": "910200dd",
   "metadata": {},
   "source": [
    "## Load Data"
   ]
  },
  {
   "cell_type": "code",
   "execution_count": 21,
   "id": "7aeaa839",
   "metadata": {},
   "outputs": [
    {
     "name": "stdout",
     "output_type": "stream",
     "text": [
      "Loading cached dataframe from data/processed/processed_AIS_df_2024_01_01_2024_01_01.pkl\n"
     ]
    },
    {
     "name": "stderr",
     "output_type": "stream",
     "text": [
      "Scaling trajectories for each MMSI: 100%|██████████| 3453/3453 [00:01<00:00, 2263.02it/s]"
     ]
    },
    {
     "name": "stdout",
     "output_type": "stream",
     "text": [
      "\n",
      "===== Dataset Statistics =====\n",
      "Total number of AIS messages: 2128288\n",
      "Number of unique MMSIs: 3453\n",
      "Date range: 2024-01-01 00:00:00 to 2024-01-01 23:59:59\n"
     ]
    },
    {
     "name": "stderr",
     "output_type": "stream",
     "text": [
      "\n"
     ]
    }
   ],
   "source": [
    "date_range = pd.date_range(start='2024-01-01', end='2024-01-01', freq='D')\n",
    "gp_regression_dataset = AISTrajectoryRegressionDataset(date_range, device)\n"
   ]
  },
  {
   "cell_type": "markdown",
   "id": "c551b8b6",
   "metadata": {},
   "source": [
    "## Fit GP Models"
   ]
  },
  {
   "cell_type": "code",
   "execution_count": 22,
   "id": "c4d1db10",
   "metadata": {},
   "outputs": [
    {
     "name": "stdout",
     "output_type": "stream",
     "text": [
      "\n",
      "Fitting GP for trajectory 1/1 for MMSI 205717000\n",
      "Times: tensor([-1.4139, -1.3393, -1.3360, -1.3079, -1.3015, -1.2540, -1.2433, -1.2397,\n",
      "        -1.2367, -1.2320, -1.2275, -1.2239, -1.2207, -1.2170, -1.2124],\n",
      "       device='cuda:0')\n",
      "Times shape: torch.Size([15]), State trajectory shape: torch.Size([15, 6])\n",
      "Model created successfully!\n"
     ]
    },
    {
     "name": "stderr",
     "output_type": "stream",
     "text": [
      "GP Training Progress: 100%|██████████| 5/5 [00:17<00:00,  3.51s/it]"
     ]
    },
    {
     "name": "stdout",
     "output_type": "stream",
     "text": [
      "Loss: 2.4319088459014893\n"
     ]
    },
    {
     "name": "stderr",
     "output_type": "stream",
     "text": [
      "\n"
     ]
    }
   ],
   "source": [
    "# num_trajectories = len(gp_regression_dataset)\n",
    "num_trajectories = 1\n",
    "models = {}\n",
    "likelihoods = {}\n",
    "losses = {}\n",
    "\n",
    "session_id = datetime.now().strftime('%Y-%m-%d_%H-%M-%S')\n",
    "\n",
    "for idx in range(num_trajectories):\n",
    "    # mmsi, times, state_trajectory = gp_regression_dataset[idx]\n",
    "    mmsi, times, state_trajectory = gp_regression_dataset[3]\n",
    "    print(f\"\\nFitting GP for trajectory {idx+1}/{num_trajectories} for MMSI {mmsi}\")\n",
    "    \n",
    "    times = times[:15]\n",
    "    print(f\"Times: {times}\")\n",
    "    state_trajectory = state_trajectory[:15, :]\n",
    "    \n",
    "    \n",
    "    print(f\"Times shape: {times.shape}, State trajectory shape: {state_trajectory.shape}\")\n",
    "    times_tensor = times.detach().to(device)\n",
    "\n",
    "\n",
    "    X_indices = torch.arange(len(times), device=device).unsqueeze(1)\n",
    "    \n",
    "    Y = state_trajectory.detach().to(device) # Targets are shape [time_steps, n_states]\n",
    "    num_tasks = Y.shape[1]\n",
    "\n",
    "    likelihood = gpytorch.likelihoods.MultitaskGaussianLikelihood(num_tasks=num_tasks).to(device)\n",
    "    \n",
    "    # GP model with state space kernel\n",
    "    try:\n",
    "        \n",
    "        model = StateSpaceGPModel(X_indices, Y, likelihood, timesteps=times_tensor, num_tasks=num_tasks).to(device)\n",
    "        print(\"Model created successfully!\")\n",
    "        \n",
    "        # Train with jitter for numerical stability\n",
    "        with gpytorch.settings.cholesky_jitter(1e-1):\n",
    "            loss, model, likelihood = train_model(model, likelihood, X_indices, Y, num_epochs=5, lr=0.1, mmsi=mmsi, session_id=session_id)\n",
    "                    \n",
    "        print(f\"Loss: {loss.item()}\")\n",
    "        models[mmsi] = model\n",
    "        likelihoods[mmsi] = likelihood\n",
    "        losses[mmsi] = loss.item()\n",
    "    except Exception as e:\n",
    "        print(f\"Error creating model: {e}\")\n",
    "        import traceback\n",
    "        traceback.print_exc()"
   ]
  },
  {
   "cell_type": "markdown",
   "id": "6cd0047d",
   "metadata": {},
   "source": [
    "## Fit Trajectories in Parallel"
   ]
  },
  {
   "cell_type": "code",
   "execution_count": null,
   "id": "7b3b9cee",
   "metadata": {},
   "outputs": [
    {
     "name": "stdout",
     "output_type": "stream",
     "text": [
      "\n",
      "Fitting GP for trajectory 1/3453 for MMSI 3660489\n",
      "\n",
      "Fitting GP for trajectory 2/3453 for MMSI 203661016\n",
      "\n",
      "Fitting GP for trajectory 3/3453 for MMSI 205691000\n",
      "\n",
      "Fitting GP for trajectory 4/3453 for MMSI 205717000\n"
     ]
    },
    {
     "name": "stderr",
     "output_type": "stream",
     "text": [
      "GP Training Progress:   0%|          | 0/1 [00:00<?, ?it/s]\n",
      "\n"
     ]
    },
    {
     "name": "stdout",
     "output_type": "stream",
     "text": [
      "\n",
      "Fitting GP for trajectory 1/3453 for MMSI 3660489\n",
      "\n",
      "Fitting GP for trajectory 2/3453 for MMSI 203661016\n",
      "\n",
      "Fitting GP for trajectory 3/3453 for MMSI 205691000\n",
      "\n",
      "Fitting GP for trajectory 4/3453 for MMSI 205717000\n"
     ]
    },
    {
     "name": "stderr",
     "output_type": "stream",
     "text": [
      "GP Training Progress:   0%|          | 0/1 [00:00<?, ?it/s]\n",
      "\n"
     ]
    },
    {
     "name": "stdout",
     "output_type": "stream",
     "text": [
      "Error processing trajectory 0 (MMSI 3660489): _matrix_mult_impl() Expected a value of type 'Tensor (inferred)' for argument 'Al_T' but instead found type 'float'.\n",
      "Inferred 'Al_T' to be of type 'Tensor' because it was not annotated with an explicit type.\n",
      "Position: 3\n",
      "Value: 1.0\n",
      "Declaration: _matrix_mult_impl(Tensor self, Tensor Ak, Tensor Bi_BiT, Tensor Al_T, Tensor ku) -> Tensor\n",
      "Cast error details: Unable to cast 1.0 to Tensor\n",
      "\n",
      "Fitting GP for trajectory 5/3453 for MMSI 209156000\n"
     ]
    },
    {
     "name": "stdout",
     "output_type": "stream",
     "text": [
      "\n",
      "Fitting GP for trajectory 1/3453 for MMSI 3660489\n",
      "\n",
      "Fitting GP for trajectory 2/3453 for MMSI 203661016\n",
      "\n",
      "Fitting GP for trajectory 3/3453 for MMSI 205691000\n",
      "\n",
      "Fitting GP for trajectory 4/3453 for MMSI 205717000\n"
     ]
    },
    {
     "name": "stderr",
     "output_type": "stream",
     "text": [
      "GP Training Progress:   0%|          | 0/1 [00:00<?, ?it/s]\n",
      "\n"
     ]
    },
    {
     "name": "stdout",
     "output_type": "stream",
     "text": [
      "Error processing trajectory 0 (MMSI 3660489): _matrix_mult_impl() Expected a value of type 'Tensor (inferred)' for argument 'Al_T' but instead found type 'float'.\n",
      "Inferred 'Al_T' to be of type 'Tensor' because it was not annotated with an explicit type.\n",
      "Position: 3\n",
      "Value: 1.0\n",
      "Declaration: _matrix_mult_impl(Tensor self, Tensor Ak, Tensor Bi_BiT, Tensor Al_T, Tensor ku) -> Tensor\n",
      "Cast error details: Unable to cast 1.0 to Tensor\n",
      "\n",
      "Fitting GP for trajectory 5/3453 for MMSI 209156000\n"
     ]
    },
    {
     "name": "stderr",
     "output_type": "stream",
     "text": [
      "GP Training Progress:   0%|          | 0/1 [00:00<?, ?it/s]\n",
      "\n"
     ]
    },
    {
     "name": "stdout",
     "output_type": "stream",
     "text": [
      "\n",
      "Fitting GP for trajectory 1/3453 for MMSI 3660489\n",
      "\n",
      "Fitting GP for trajectory 2/3453 for MMSI 203661016\n",
      "\n",
      "Fitting GP for trajectory 3/3453 for MMSI 205691000\n",
      "\n",
      "Fitting GP for trajectory 4/3453 for MMSI 205717000\n"
     ]
    },
    {
     "name": "stderr",
     "output_type": "stream",
     "text": [
      "GP Training Progress:   0%|          | 0/1 [00:00<?, ?it/s]\n",
      "\n"
     ]
    },
    {
     "name": "stdout",
     "output_type": "stream",
     "text": [
      "Error processing trajectory 0 (MMSI 3660489): _matrix_mult_impl() Expected a value of type 'Tensor (inferred)' for argument 'Al_T' but instead found type 'float'.\n",
      "Inferred 'Al_T' to be of type 'Tensor' because it was not annotated with an explicit type.\n",
      "Position: 3\n",
      "Value: 1.0\n",
      "Declaration: _matrix_mult_impl(Tensor self, Tensor Ak, Tensor Bi_BiT, Tensor Al_T, Tensor ku) -> Tensor\n",
      "Cast error details: Unable to cast 1.0 to Tensor\n",
      "\n",
      "Fitting GP for trajectory 5/3453 for MMSI 209156000\n"
     ]
    },
    {
     "name": "stderr",
     "output_type": "stream",
     "text": [
      "GP Training Progress:   0%|          | 0/1 [00:00<?, ?it/s]\n",
      "\n"
     ]
    },
    {
     "name": "stdout",
     "output_type": "stream",
     "text": [
      "Error processing trajectory 1 (MMSI 203661016): _matrix_mult_impl() Expected a value of type 'Tensor (inferred)' for argument 'Al_T' but instead found type 'float'.\n",
      "Inferred 'Al_T' to be of type 'Tensor' because it was not annotated with an explicit type.\n",
      "Position: 3\n",
      "Value: 1.0\n",
      "Declaration: _matrix_mult_impl(Tensor self, Tensor Ak, Tensor Bi_BiT, Tensor Al_T, Tensor ku) -> Tensor\n",
      "Cast error details: Unable to cast 1.0 to Tensor\n"
     ]
    },
    {
     "name": "stdout",
     "output_type": "stream",
     "text": [
      "\n",
      "Fitting GP for trajectory 1/3453 for MMSI 3660489\n",
      "\n",
      "Fitting GP for trajectory 2/3453 for MMSI 203661016\n",
      "\n",
      "Fitting GP for trajectory 3/3453 for MMSI 205691000\n",
      "\n",
      "Fitting GP for trajectory 4/3453 for MMSI 205717000\n"
     ]
    },
    {
     "name": "stderr",
     "output_type": "stream",
     "text": [
      "GP Training Progress:   0%|          | 0/1 [00:00<?, ?it/s]\n",
      "\n"
     ]
    },
    {
     "name": "stdout",
     "output_type": "stream",
     "text": [
      "Error processing trajectory 0 (MMSI 3660489): _matrix_mult_impl() Expected a value of type 'Tensor (inferred)' for argument 'Al_T' but instead found type 'float'.\n",
      "Inferred 'Al_T' to be of type 'Tensor' because it was not annotated with an explicit type.\n",
      "Position: 3\n",
      "Value: 1.0\n",
      "Declaration: _matrix_mult_impl(Tensor self, Tensor Ak, Tensor Bi_BiT, Tensor Al_T, Tensor ku) -> Tensor\n",
      "Cast error details: Unable to cast 1.0 to Tensor\n",
      "\n",
      "Fitting GP for trajectory 5/3453 for MMSI 209156000\n"
     ]
    },
    {
     "name": "stderr",
     "output_type": "stream",
     "text": [
      "GP Training Progress:   0%|          | 0/1 [00:00<?, ?it/s]\n",
      "\n"
     ]
    },
    {
     "name": "stdout",
     "output_type": "stream",
     "text": [
      "Error processing trajectory 1 (MMSI 203661016): _matrix_mult_impl() Expected a value of type 'Tensor (inferred)' for argument 'Al_T' but instead found type 'float'.\n",
      "Inferred 'Al_T' to be of type 'Tensor' because it was not annotated with an explicit type.\n",
      "Position: 3\n",
      "Value: 1.0\n",
      "Declaration: _matrix_mult_impl(Tensor self, Tensor Ak, Tensor Bi_BiT, Tensor Al_T, Tensor ku) -> Tensor\n",
      "Cast error details: Unable to cast 1.0 to Tensor\n"
     ]
    },
    {
     "name": "stderr",
     "output_type": "stream",
     "text": [
      "GP Training Progress:   0%|          | 0/1 [00:00<?, ?it/s]\n",
      "\n"
     ]
    },
    {
     "name": "stdout",
     "output_type": "stream",
     "text": [
      "\n",
      "Fitting GP for trajectory 1/3453 for MMSI 3660489\n",
      "\n",
      "Fitting GP for trajectory 2/3453 for MMSI 203661016\n",
      "\n",
      "Fitting GP for trajectory 3/3453 for MMSI 205691000\n",
      "\n",
      "Fitting GP for trajectory 4/3453 for MMSI 205717000\n"
     ]
    },
    {
     "name": "stderr",
     "output_type": "stream",
     "text": [
      "GP Training Progress:   0%|          | 0/1 [00:00<?, ?it/s]\n",
      "\n"
     ]
    },
    {
     "name": "stdout",
     "output_type": "stream",
     "text": [
      "Error processing trajectory 0 (MMSI 3660489): _matrix_mult_impl() Expected a value of type 'Tensor (inferred)' for argument 'Al_T' but instead found type 'float'.\n",
      "Inferred 'Al_T' to be of type 'Tensor' because it was not annotated with an explicit type.\n",
      "Position: 3\n",
      "Value: 1.0\n",
      "Declaration: _matrix_mult_impl(Tensor self, Tensor Ak, Tensor Bi_BiT, Tensor Al_T, Tensor ku) -> Tensor\n",
      "Cast error details: Unable to cast 1.0 to Tensor\n",
      "\n",
      "Fitting GP for trajectory 5/3453 for MMSI 209156000\n"
     ]
    },
    {
     "name": "stderr",
     "output_type": "stream",
     "text": [
      "GP Training Progress:   0%|          | 0/1 [00:00<?, ?it/s]\n",
      "\n"
     ]
    },
    {
     "name": "stdout",
     "output_type": "stream",
     "text": [
      "Error processing trajectory 1 (MMSI 203661016): _matrix_mult_impl() Expected a value of type 'Tensor (inferred)' for argument 'Al_T' but instead found type 'float'.\n",
      "Inferred 'Al_T' to be of type 'Tensor' because it was not annotated with an explicit type.\n",
      "Position: 3\n",
      "Value: 1.0\n",
      "Declaration: _matrix_mult_impl(Tensor self, Tensor Ak, Tensor Bi_BiT, Tensor Al_T, Tensor ku) -> Tensor\n",
      "Cast error details: Unable to cast 1.0 to Tensor\n"
     ]
    },
    {
     "name": "stderr",
     "output_type": "stream",
     "text": [
      "GP Training Progress:   0%|          | 0/1 [00:00<?, ?it/s]\n",
      "\n"
     ]
    },
    {
     "name": "stdout",
     "output_type": "stream",
     "text": [
      "Error processing trajectory 3 (MMSI 205717000): _matrix_mult_impl() Expected a value of type 'Tensor (inferred)' for argument 'Al_T' but instead found type 'float'.\n",
      "Inferred 'Al_T' to be of type 'Tensor' because it was not annotated with an explicit type.\n",
      "Position: 3\n",
      "Value: 1.0\n",
      "Declaration: _matrix_mult_impl(Tensor self, Tensor Ak, Tensor Bi_BiT, Tensor Al_T, Tensor ku) -> Tensor\n",
      "Cast error details: Unable to cast 1.0 to Tensor\n"
     ]
    },
    {
     "name": "stdout",
     "output_type": "stream",
     "text": [
      "\n",
      "Fitting GP for trajectory 1/3453 for MMSI 3660489\n",
      "\n",
      "Fitting GP for trajectory 2/3453 for MMSI 203661016\n",
      "\n",
      "Fitting GP for trajectory 3/3453 for MMSI 205691000\n",
      "\n",
      "Fitting GP for trajectory 4/3453 for MMSI 205717000\n"
     ]
    },
    {
     "name": "stderr",
     "output_type": "stream",
     "text": [
      "GP Training Progress:   0%|          | 0/1 [00:00<?, ?it/s]\n",
      "\n"
     ]
    },
    {
     "name": "stdout",
     "output_type": "stream",
     "text": [
      "Error processing trajectory 0 (MMSI 3660489): _matrix_mult_impl() Expected a value of type 'Tensor (inferred)' for argument 'Al_T' but instead found type 'float'.\n",
      "Inferred 'Al_T' to be of type 'Tensor' because it was not annotated with an explicit type.\n",
      "Position: 3\n",
      "Value: 1.0\n",
      "Declaration: _matrix_mult_impl(Tensor self, Tensor Ak, Tensor Bi_BiT, Tensor Al_T, Tensor ku) -> Tensor\n",
      "Cast error details: Unable to cast 1.0 to Tensor\n",
      "\n",
      "Fitting GP for trajectory 5/3453 for MMSI 209156000\n"
     ]
    },
    {
     "name": "stderr",
     "output_type": "stream",
     "text": [
      "GP Training Progress:   0%|          | 0/1 [00:00<?, ?it/s]\n",
      "\n"
     ]
    },
    {
     "name": "stdout",
     "output_type": "stream",
     "text": [
      "Error processing trajectory 1 (MMSI 203661016): _matrix_mult_impl() Expected a value of type 'Tensor (inferred)' for argument 'Al_T' but instead found type 'float'.\n",
      "Inferred 'Al_T' to be of type 'Tensor' because it was not annotated with an explicit type.\n",
      "Position: 3\n",
      "Value: 1.0\n",
      "Declaration: _matrix_mult_impl(Tensor self, Tensor Ak, Tensor Bi_BiT, Tensor Al_T, Tensor ku) -> Tensor\n",
      "Cast error details: Unable to cast 1.0 to Tensor\n"
     ]
    },
    {
     "name": "stderr",
     "output_type": "stream",
     "text": [
      "GP Training Progress:   0%|          | 0/1 [00:00<?, ?it/s]\n",
      "\n"
     ]
    },
    {
     "name": "stdout",
     "output_type": "stream",
     "text": [
      "Error processing trajectory 3 (MMSI 205717000): _matrix_mult_impl() Expected a value of type 'Tensor (inferred)' for argument 'Al_T' but instead found type 'float'.\n",
      "Inferred 'Al_T' to be of type 'Tensor' because it was not annotated with an explicit type.\n",
      "Position: 3\n",
      "Value: 1.0\n",
      "Declaration: _matrix_mult_impl(Tensor self, Tensor Ak, Tensor Bi_BiT, Tensor Al_T, Tensor ku) -> Tensor\n",
      "Cast error details: Unable to cast 1.0 to Tensor\n"
     ]
    },
    {
     "name": "stderr",
     "output_type": "stream",
     "text": [
      "GP Training Progress:   0%|          | 0/1 [00:00<?, ?it/s]\n",
      "\n"
     ]
    },
    {
     "name": "stdout",
     "output_type": "stream",
     "text": [
      "\n",
      "Fitting GP for trajectory 1/3453 for MMSI 3660489\n",
      "\n",
      "Fitting GP for trajectory 2/3453 for MMSI 203661016\n",
      "\n",
      "Fitting GP for trajectory 3/3453 for MMSI 205691000\n",
      "\n",
      "Fitting GP for trajectory 4/3453 for MMSI 205717000\n"
     ]
    },
    {
     "name": "stderr",
     "output_type": "stream",
     "text": [
      "GP Training Progress:   0%|          | 0/1 [00:00<?, ?it/s]\n",
      "\n"
     ]
    },
    {
     "name": "stdout",
     "output_type": "stream",
     "text": [
      "Error processing trajectory 0 (MMSI 3660489): _matrix_mult_impl() Expected a value of type 'Tensor (inferred)' for argument 'Al_T' but instead found type 'float'.\n",
      "Inferred 'Al_T' to be of type 'Tensor' because it was not annotated with an explicit type.\n",
      "Position: 3\n",
      "Value: 1.0\n",
      "Declaration: _matrix_mult_impl(Tensor self, Tensor Ak, Tensor Bi_BiT, Tensor Al_T, Tensor ku) -> Tensor\n",
      "Cast error details: Unable to cast 1.0 to Tensor\n",
      "\n",
      "Fitting GP for trajectory 5/3453 for MMSI 209156000\n"
     ]
    },
    {
     "name": "stderr",
     "output_type": "stream",
     "text": [
      "GP Training Progress:   0%|          | 0/1 [00:00<?, ?it/s]\n",
      "\n"
     ]
    },
    {
     "name": "stdout",
     "output_type": "stream",
     "text": [
      "Error processing trajectory 1 (MMSI 203661016): _matrix_mult_impl() Expected a value of type 'Tensor (inferred)' for argument 'Al_T' but instead found type 'float'.\n",
      "Inferred 'Al_T' to be of type 'Tensor' because it was not annotated with an explicit type.\n",
      "Position: 3\n",
      "Value: 1.0\n",
      "Declaration: _matrix_mult_impl(Tensor self, Tensor Ak, Tensor Bi_BiT, Tensor Al_T, Tensor ku) -> Tensor\n",
      "Cast error details: Unable to cast 1.0 to Tensor\n"
     ]
    },
    {
     "name": "stderr",
     "output_type": "stream",
     "text": [
      "GP Training Progress:   0%|          | 0/1 [00:00<?, ?it/s]\n",
      "\n"
     ]
    },
    {
     "name": "stdout",
     "output_type": "stream",
     "text": [
      "Error processing trajectory 3 (MMSI 205717000): _matrix_mult_impl() Expected a value of type 'Tensor (inferred)' for argument 'Al_T' but instead found type 'float'.\n",
      "Inferred 'Al_T' to be of type 'Tensor' because it was not annotated with an explicit type.\n",
      "Position: 3\n",
      "Value: 1.0\n",
      "Declaration: _matrix_mult_impl(Tensor self, Tensor Ak, Tensor Bi_BiT, Tensor Al_T, Tensor ku) -> Tensor\n",
      "Cast error details: Unable to cast 1.0 to Tensor\n"
     ]
    },
    {
     "name": "stderr",
     "output_type": "stream",
     "text": [
      "GP Training Progress:   0%|          | 0/1 [00:00<?, ?it/s]\n",
      "\n"
     ]
    },
    {
     "name": "stdout",
     "output_type": "stream",
     "text": [
      "Error processing trajectory 2 (MMSI 205691000): _matrix_mult_impl() Expected a value of type 'Tensor (inferred)' for argument 'Al_T' but instead found type 'float'.\n",
      "Inferred 'Al_T' to be of type 'Tensor' because it was not annotated with an explicit type.\n",
      "Position: 3\n",
      "Value: 1.0\n",
      "Declaration: _matrix_mult_impl(Tensor self, Tensor Ak, Tensor Bi_BiT, Tensor Al_T, Tensor ku) -> Tensor\n",
      "Cast error details: Unable to cast 1.0 to Tensor\n"
     ]
    },
    {
     "name": "stdout",
     "output_type": "stream",
     "text": [
      "\n",
      "Fitting GP for trajectory 1/3453 for MMSI 3660489\n",
      "\n",
      "Fitting GP for trajectory 2/3453 for MMSI 203661016\n",
      "\n",
      "Fitting GP for trajectory 3/3453 for MMSI 205691000\n",
      "\n",
      "Fitting GP for trajectory 4/3453 for MMSI 205717000\n"
     ]
    },
    {
     "name": "stderr",
     "output_type": "stream",
     "text": [
      "GP Training Progress:   0%|          | 0/1 [00:00<?, ?it/s]\n",
      "\n"
     ]
    },
    {
     "name": "stdout",
     "output_type": "stream",
     "text": [
      "Error processing trajectory 0 (MMSI 3660489): _matrix_mult_impl() Expected a value of type 'Tensor (inferred)' for argument 'Al_T' but instead found type 'float'.\n",
      "Inferred 'Al_T' to be of type 'Tensor' because it was not annotated with an explicit type.\n",
      "Position: 3\n",
      "Value: 1.0\n",
      "Declaration: _matrix_mult_impl(Tensor self, Tensor Ak, Tensor Bi_BiT, Tensor Al_T, Tensor ku) -> Tensor\n",
      "Cast error details: Unable to cast 1.0 to Tensor\n",
      "\n",
      "Fitting GP for trajectory 5/3453 for MMSI 209156000\n"
     ]
    },
    {
     "name": "stderr",
     "output_type": "stream",
     "text": [
      "GP Training Progress:   0%|          | 0/1 [00:00<?, ?it/s]\n",
      "\n"
     ]
    },
    {
     "name": "stdout",
     "output_type": "stream",
     "text": [
      "Error processing trajectory 1 (MMSI 203661016): _matrix_mult_impl() Expected a value of type 'Tensor (inferred)' for argument 'Al_T' but instead found type 'float'.\n",
      "Inferred 'Al_T' to be of type 'Tensor' because it was not annotated with an explicit type.\n",
      "Position: 3\n",
      "Value: 1.0\n",
      "Declaration: _matrix_mult_impl(Tensor self, Tensor Ak, Tensor Bi_BiT, Tensor Al_T, Tensor ku) -> Tensor\n",
      "Cast error details: Unable to cast 1.0 to Tensor\n"
     ]
    },
    {
     "name": "stderr",
     "output_type": "stream",
     "text": [
      "GP Training Progress:   0%|          | 0/1 [00:00<?, ?it/s]\n",
      "\n"
     ]
    },
    {
     "name": "stdout",
     "output_type": "stream",
     "text": [
      "Error processing trajectory 3 (MMSI 205717000): _matrix_mult_impl() Expected a value of type 'Tensor (inferred)' for argument 'Al_T' but instead found type 'float'.\n",
      "Inferred 'Al_T' to be of type 'Tensor' because it was not annotated with an explicit type.\n",
      "Position: 3\n",
      "Value: 1.0\n",
      "Declaration: _matrix_mult_impl(Tensor self, Tensor Ak, Tensor Bi_BiT, Tensor Al_T, Tensor ku) -> Tensor\n",
      "Cast error details: Unable to cast 1.0 to Tensor\n"
     ]
    },
    {
     "name": "stderr",
     "output_type": "stream",
     "text": [
      "GP Training Progress:   0%|          | 0/1 [00:00<?, ?it/s]\n",
      "\n"
     ]
    },
    {
     "name": "stdout",
     "output_type": "stream",
     "text": [
      "Error processing trajectory 2 (MMSI 205691000): _matrix_mult_impl() Expected a value of type 'Tensor (inferred)' for argument 'Al_T' but instead found type 'float'.\n",
      "Inferred 'Al_T' to be of type 'Tensor' because it was not annotated with an explicit type.\n",
      "Position: 3\n",
      "Value: 1.0\n",
      "Declaration: _matrix_mult_impl(Tensor self, Tensor Ak, Tensor Bi_BiT, Tensor Al_T, Tensor ku) -> Tensor\n",
      "Cast error details: Unable to cast 1.0 to Tensor\n"
     ]
    },
    {
     "name": "stderr",
     "output_type": "stream",
     "text": [
      "GP Training Progress:   0%|          | 0/1 [00:00<?, ?it/s]"
     ]
    },
    {
     "name": "stdout",
     "output_type": "stream",
     "text": [
      "\n",
      "Fitting GP for trajectory 1/3453 for MMSI 3660489\n",
      "\n",
      "Fitting GP for trajectory 2/3453 for MMSI 203661016\n",
      "\n",
      "Fitting GP for trajectory 3/3453 for MMSI 205691000\n",
      "\n",
      "Fitting GP for trajectory 4/3453 for MMSI 205717000\n"
     ]
    },
    {
     "name": "stderr",
     "output_type": "stream",
     "text": [
      "GP Training Progress:   0%|          | 0/1 [00:00<?, ?it/s]\n",
      "\n"
     ]
    },
    {
     "name": "stdout",
     "output_type": "stream",
     "text": [
      "Error processing trajectory 0 (MMSI 3660489): _matrix_mult_impl() Expected a value of type 'Tensor (inferred)' for argument 'Al_T' but instead found type 'float'.\n",
      "Inferred 'Al_T' to be of type 'Tensor' because it was not annotated with an explicit type.\n",
      "Position: 3\n",
      "Value: 1.0\n",
      "Declaration: _matrix_mult_impl(Tensor self, Tensor Ak, Tensor Bi_BiT, Tensor Al_T, Tensor ku) -> Tensor\n",
      "Cast error details: Unable to cast 1.0 to Tensor\n",
      "\n",
      "Fitting GP for trajectory 5/3453 for MMSI 209156000\n"
     ]
    },
    {
     "name": "stderr",
     "output_type": "stream",
     "text": [
      "GP Training Progress:   0%|          | 0/1 [00:00<?, ?it/s]\n",
      "\n"
     ]
    },
    {
     "name": "stdout",
     "output_type": "stream",
     "text": [
      "Error processing trajectory 1 (MMSI 203661016): _matrix_mult_impl() Expected a value of type 'Tensor (inferred)' for argument 'Al_T' but instead found type 'float'.\n",
      "Inferred 'Al_T' to be of type 'Tensor' because it was not annotated with an explicit type.\n",
      "Position: 3\n",
      "Value: 1.0\n",
      "Declaration: _matrix_mult_impl(Tensor self, Tensor Ak, Tensor Bi_BiT, Tensor Al_T, Tensor ku) -> Tensor\n",
      "Cast error details: Unable to cast 1.0 to Tensor\n"
     ]
    },
    {
     "name": "stderr",
     "output_type": "stream",
     "text": [
      "GP Training Progress:   0%|          | 0/1 [00:00<?, ?it/s]\n",
      "\n"
     ]
    },
    {
     "name": "stdout",
     "output_type": "stream",
     "text": [
      "Error processing trajectory 3 (MMSI 205717000): _matrix_mult_impl() Expected a value of type 'Tensor (inferred)' for argument 'Al_T' but instead found type 'float'.\n",
      "Inferred 'Al_T' to be of type 'Tensor' because it was not annotated with an explicit type.\n",
      "Position: 3\n",
      "Value: 1.0\n",
      "Declaration: _matrix_mult_impl(Tensor self, Tensor Ak, Tensor Bi_BiT, Tensor Al_T, Tensor ku) -> Tensor\n",
      "Cast error details: Unable to cast 1.0 to Tensor\n"
     ]
    },
    {
     "name": "stderr",
     "output_type": "stream",
     "text": [
      "GP Training Progress:   0%|          | 0/1 [00:00<?, ?it/s]\n",
      "\n"
     ]
    },
    {
     "name": "stdout",
     "output_type": "stream",
     "text": [
      "Error processing trajectory 2 (MMSI 205691000): _matrix_mult_impl() Expected a value of type 'Tensor (inferred)' for argument 'Al_T' but instead found type 'float'.\n",
      "Inferred 'Al_T' to be of type 'Tensor' because it was not annotated with an explicit type.\n",
      "Position: 3\n",
      "Value: 1.0\n",
      "Declaration: _matrix_mult_impl(Tensor self, Tensor Ak, Tensor Bi_BiT, Tensor Al_T, Tensor ku) -> Tensor\n",
      "Cast error details: Unable to cast 1.0 to Tensor\n"
     ]
    },
    {
     "name": "stderr",
     "output_type": "stream",
     "text": [
      "GP Training Progress:   0%|          | 0/1 [00:00<?, ?it/s]"
     ]
    },
    {
     "name": "stdout",
     "output_type": "stream",
     "text": [
      "Error processing trajectory 4 (MMSI 209156000): _matrix_mult_impl() Expected a value of type 'Tensor (inferred)' for argument 'Al_T' but instead found type 'float'.\n",
      "Inferred 'Al_T' to be of type 'Tensor' because it was not annotated with an explicit type.\n",
      "Position: 3\n",
      "Value: 1.0\n",
      "Declaration: _matrix_mult_impl(Tensor self, Tensor Ak, Tensor Bi_BiT, Tensor Al_T, Tensor ku) -> Tensor\n",
      "Cast error details: Unable to cast 1.0 to Tensor\n"
     ]
    },
    {
     "name": "stderr",
     "output_type": "stream",
     "text": [
      "\n"
     ]
    },
    {
     "name": "stdout",
     "output_type": "stream",
     "text": [
      "\n",
      "Fitting GP for trajectory 1/3453 for MMSI 3660489\n",
      "\n",
      "Fitting GP for trajectory 2/3453 for MMSI 203661016\n",
      "\n",
      "Fitting GP for trajectory 3/3453 for MMSI 205691000\n",
      "\n",
      "Fitting GP for trajectory 4/3453 for MMSI 205717000\n"
     ]
    },
    {
     "name": "stderr",
     "output_type": "stream",
     "text": [
      "GP Training Progress:   0%|          | 0/1 [00:00<?, ?it/s]\n",
      "\n"
     ]
    },
    {
     "name": "stdout",
     "output_type": "stream",
     "text": [
      "Error processing trajectory 0 (MMSI 3660489): _matrix_mult_impl() Expected a value of type 'Tensor (inferred)' for argument 'Al_T' but instead found type 'float'.\n",
      "Inferred 'Al_T' to be of type 'Tensor' because it was not annotated with an explicit type.\n",
      "Position: 3\n",
      "Value: 1.0\n",
      "Declaration: _matrix_mult_impl(Tensor self, Tensor Ak, Tensor Bi_BiT, Tensor Al_T, Tensor ku) -> Tensor\n",
      "Cast error details: Unable to cast 1.0 to Tensor\n",
      "\n",
      "Fitting GP for trajectory 5/3453 for MMSI 209156000\n"
     ]
    },
    {
     "name": "stderr",
     "output_type": "stream",
     "text": [
      "GP Training Progress:   0%|          | 0/1 [00:00<?, ?it/s]\n",
      "\n"
     ]
    },
    {
     "name": "stdout",
     "output_type": "stream",
     "text": [
      "Error processing trajectory 1 (MMSI 203661016): _matrix_mult_impl() Expected a value of type 'Tensor (inferred)' for argument 'Al_T' but instead found type 'float'.\n",
      "Inferred 'Al_T' to be of type 'Tensor' because it was not annotated with an explicit type.\n",
      "Position: 3\n",
      "Value: 1.0\n",
      "Declaration: _matrix_mult_impl(Tensor self, Tensor Ak, Tensor Bi_BiT, Tensor Al_T, Tensor ku) -> Tensor\n",
      "Cast error details: Unable to cast 1.0 to Tensor\n"
     ]
    },
    {
     "name": "stderr",
     "output_type": "stream",
     "text": [
      "GP Training Progress:   0%|          | 0/1 [00:00<?, ?it/s]\n",
      "\n"
     ]
    },
    {
     "name": "stdout",
     "output_type": "stream",
     "text": [
      "Error processing trajectory 3 (MMSI 205717000): _matrix_mult_impl() Expected a value of type 'Tensor (inferred)' for argument 'Al_T' but instead found type 'float'.\n",
      "Inferred 'Al_T' to be of type 'Tensor' because it was not annotated with an explicit type.\n",
      "Position: 3\n",
      "Value: 1.0\n",
      "Declaration: _matrix_mult_impl(Tensor self, Tensor Ak, Tensor Bi_BiT, Tensor Al_T, Tensor ku) -> Tensor\n",
      "Cast error details: Unable to cast 1.0 to Tensor\n"
     ]
    },
    {
     "name": "stderr",
     "output_type": "stream",
     "text": [
      "GP Training Progress:   0%|          | 0/1 [00:00<?, ?it/s]\n",
      "\n"
     ]
    },
    {
     "name": "stdout",
     "output_type": "stream",
     "text": [
      "Error processing trajectory 2 (MMSI 205691000): _matrix_mult_impl() Expected a value of type 'Tensor (inferred)' for argument 'Al_T' but instead found type 'float'.\n",
      "Inferred 'Al_T' to be of type 'Tensor' because it was not annotated with an explicit type.\n",
      "Position: 3\n",
      "Value: 1.0\n",
      "Declaration: _matrix_mult_impl(Tensor self, Tensor Ak, Tensor Bi_BiT, Tensor Al_T, Tensor ku) -> Tensor\n",
      "Cast error details: Unable to cast 1.0 to Tensor\n"
     ]
    },
    {
     "name": "stderr",
     "output_type": "stream",
     "text": [
      "GP Training Progress:   0%|          | 0/1 [00:00<?, ?it/s]"
     ]
    },
    {
     "name": "stdout",
     "output_type": "stream",
     "text": [
      "Error processing trajectory 4 (MMSI 209156000): _matrix_mult_impl() Expected a value of type 'Tensor (inferred)' for argument 'Al_T' but instead found type 'float'.\n",
      "Inferred 'Al_T' to be of type 'Tensor' because it was not annotated with an explicit type.\n",
      "Position: 3\n",
      "Value: 1.0\n",
      "Declaration: _matrix_mult_impl(Tensor self, Tensor Ak, Tensor Bi_BiT, Tensor Al_T, Tensor ku) -> Tensor\n",
      "Cast error details: Unable to cast 1.0 to Tensor\n"
     ]
    },
    {
     "name": "stderr",
     "output_type": "stream",
     "text": [
      "\n"
     ]
    },
    {
     "ename": "KeyboardInterrupt",
     "evalue": "",
     "output_type": "error",
     "traceback": [
      "\u001b[31m---------------------------------------------------------------------------\u001b[39m",
      "\u001b[31mKeyboardInterrupt\u001b[39m                         Traceback (most recent call last)",
      "\u001b[36mCell\u001b[39m\u001b[36m \u001b[39m\u001b[32mIn[4]\u001b[39m\u001b[32m, line 55\u001b[39m\n\u001b[32m     52\u001b[39m \u001b[38;5;28;01mwith\u001b[39;00m concurrent.futures.ThreadPoolExecutor(max_workers=max_workers) \u001b[38;5;28;01mas\u001b[39;00m executor:\n\u001b[32m     53\u001b[39m     \u001b[38;5;66;03m# Process all trajectories in parallel\u001b[39;00m\n\u001b[32m     54\u001b[39m     trajectory_indices = \u001b[38;5;28mlist\u001b[39m(\u001b[38;5;28mrange\u001b[39m(num_trajectories))\n\u001b[32m---> \u001b[39m\u001b[32m55\u001b[39m     results = \u001b[38;5;28;43mlist\u001b[39;49m\u001b[43m(\u001b[49m\u001b[43mexecutor\u001b[49m\u001b[43m.\u001b[49m\u001b[43mmap\u001b[49m\u001b[43m(\u001b[49m\u001b[43mprocess_fn\u001b[49m\u001b[43m,\u001b[49m\u001b[43m \u001b[49m\u001b[43mtrajectory_indices\u001b[49m\u001b[43m)\u001b[49m\u001b[43m)\u001b[49m\n\u001b[32m     57\u001b[39m     \u001b[38;5;66;03m# Collect results (only store successful ones)\u001b[39;00m\n\u001b[32m     58\u001b[39m     \u001b[38;5;28;01mfor\u001b[39;00m mmsi, model, likelihood, loss \u001b[38;5;129;01min\u001b[39;00m results:\n",
      "\u001b[36mFile \u001b[39m\u001b[32m~/miniconda3/envs/gp/lib/python3.13/concurrent/futures/_base.py:619\u001b[39m, in \u001b[36mExecutor.map.<locals>.result_iterator\u001b[39m\u001b[34m()\u001b[39m\n\u001b[32m    616\u001b[39m \u001b[38;5;28;01mwhile\u001b[39;00m fs:\n\u001b[32m    617\u001b[39m     \u001b[38;5;66;03m# Careful not to keep a reference to the popped future\u001b[39;00m\n\u001b[32m    618\u001b[39m     \u001b[38;5;28;01mif\u001b[39;00m timeout \u001b[38;5;129;01mis\u001b[39;00m \u001b[38;5;28;01mNone\u001b[39;00m:\n\u001b[32m--> \u001b[39m\u001b[32m619\u001b[39m         \u001b[38;5;28;01myield\u001b[39;00m \u001b[43m_result_or_cancel\u001b[49m\u001b[43m(\u001b[49m\u001b[43mfs\u001b[49m\u001b[43m.\u001b[49m\u001b[43mpop\u001b[49m\u001b[43m(\u001b[49m\u001b[43m)\u001b[49m\u001b[43m)\u001b[49m\n\u001b[32m    620\u001b[39m     \u001b[38;5;28;01melse\u001b[39;00m:\n\u001b[32m    621\u001b[39m         \u001b[38;5;28;01myield\u001b[39;00m _result_or_cancel(fs.pop(), end_time - time.monotonic())\n",
      "\u001b[36mFile \u001b[39m\u001b[32m~/miniconda3/envs/gp/lib/python3.13/concurrent/futures/_base.py:317\u001b[39m, in \u001b[36m_result_or_cancel\u001b[39m\u001b[34m(***failed resolving arguments***)\u001b[39m\n\u001b[32m    315\u001b[39m \u001b[38;5;28;01mtry\u001b[39;00m:\n\u001b[32m    316\u001b[39m     \u001b[38;5;28;01mtry\u001b[39;00m:\n\u001b[32m--> \u001b[39m\u001b[32m317\u001b[39m         \u001b[38;5;28;01mreturn\u001b[39;00m \u001b[43mfut\u001b[49m\u001b[43m.\u001b[49m\u001b[43mresult\u001b[49m\u001b[43m(\u001b[49m\u001b[43mtimeout\u001b[49m\u001b[43m)\u001b[49m\n\u001b[32m    318\u001b[39m     \u001b[38;5;28;01mfinally\u001b[39;00m:\n\u001b[32m    319\u001b[39m         fut.cancel()\n",
      "\u001b[36mFile \u001b[39m\u001b[32m~/miniconda3/envs/gp/lib/python3.13/concurrent/futures/_base.py:451\u001b[39m, in \u001b[36mFuture.result\u001b[39m\u001b[34m(self, timeout)\u001b[39m\n\u001b[32m    448\u001b[39m \u001b[38;5;28;01melif\u001b[39;00m \u001b[38;5;28mself\u001b[39m._state == FINISHED:\n\u001b[32m    449\u001b[39m     \u001b[38;5;28;01mreturn\u001b[39;00m \u001b[38;5;28mself\u001b[39m.__get_result()\n\u001b[32m--> \u001b[39m\u001b[32m451\u001b[39m \u001b[38;5;28;43mself\u001b[39;49m\u001b[43m.\u001b[49m\u001b[43m_condition\u001b[49m\u001b[43m.\u001b[49m\u001b[43mwait\u001b[49m\u001b[43m(\u001b[49m\u001b[43mtimeout\u001b[49m\u001b[43m)\u001b[49m\n\u001b[32m    453\u001b[39m \u001b[38;5;28;01mif\u001b[39;00m \u001b[38;5;28mself\u001b[39m._state \u001b[38;5;129;01min\u001b[39;00m [CANCELLED, CANCELLED_AND_NOTIFIED]:\n\u001b[32m    454\u001b[39m     \u001b[38;5;28;01mraise\u001b[39;00m CancelledError()\n",
      "\u001b[36mFile \u001b[39m\u001b[32m~/miniconda3/envs/gp/lib/python3.13/threading.py:359\u001b[39m, in \u001b[36mCondition.wait\u001b[39m\u001b[34m(self, timeout)\u001b[39m\n\u001b[32m    357\u001b[39m \u001b[38;5;28;01mtry\u001b[39;00m:    \u001b[38;5;66;03m# restore state no matter what (e.g., KeyboardInterrupt)\u001b[39;00m\n\u001b[32m    358\u001b[39m     \u001b[38;5;28;01mif\u001b[39;00m timeout \u001b[38;5;129;01mis\u001b[39;00m \u001b[38;5;28;01mNone\u001b[39;00m:\n\u001b[32m--> \u001b[39m\u001b[32m359\u001b[39m         \u001b[43mwaiter\u001b[49m\u001b[43m.\u001b[49m\u001b[43macquire\u001b[49m\u001b[43m(\u001b[49m\u001b[43m)\u001b[49m\n\u001b[32m    360\u001b[39m         gotit = \u001b[38;5;28;01mTrue\u001b[39;00m\n\u001b[32m    361\u001b[39m     \u001b[38;5;28;01melse\u001b[39;00m:\n",
      "\u001b[31mKeyboardInterrupt\u001b[39m: "
     ]
    }
   ],
   "source": [
    "import concurrent.futures\n",
    "from functools import partial\n",
    "\n",
    "num_trajectories = 5\n",
    "models = {}\n",
    "likelihoods = {}\n",
    "losses = {}\n",
    "\n",
    "# Create a session ID for grouping in TensorBoard\n",
    "session_id = datetime.now().strftime('%Y-%m-%d_%H-%M-%S')\n",
    "\n",
    "def process_trajectory(idx, dataset, device, session_id):\n",
    "    mmsi, times, state_trajectory = dataset[idx]\n",
    "    print(f\"\\nFitting GP for trajectory {idx+1}/{len(dataset)} for MMSI {mmsi}\")\n",
    "    \n",
    "    # times = times[:100]\n",
    "    # state_trajectory = state_trajectory[:100, :]\n",
    "    \n",
    "    times_tensor = times.detach().to(device)\n",
    "    X_indices = torch.arange(len(times), device=device).unsqueeze(1)\n",
    "    Y = state_trajectory.detach().to(device)\n",
    "    num_tasks = Y.shape[1]\n",
    "    \n",
    "    likelihood = gpytorch.likelihoods.MultitaskGaussianLikelihood(num_tasks=num_tasks).to(device)\n",
    "    \n",
    "    try:\n",
    "        model = StateSpaceGPModel(X_indices, Y, likelihood, timesteps=times_tensor, num_tasks=num_tasks).to(device)\n",
    "        \n",
    "        with gpytorch.settings.cholesky_jitter(1e-3):\n",
    "            loss, model, likelihood = train_model(model, likelihood, X_indices, Y, \n",
    "                                                num_epochs=1, lr=0.2, mmsi=mmsi, \n",
    "                                                session_id=session_id)\n",
    "        \n",
    "        return mmsi, model, likelihood, loss.item()\n",
    "    except Exception as e:\n",
    "        print(f\"Error processing trajectory {idx} (MMSI {mmsi}): {e}\")\n",
    "        return mmsi, None, None, float('inf')  # Return something to avoid breaking the loop\n",
    "\n",
    "# Create a partial function with fixed arguments\n",
    "process_fn = partial(process_trajectory, \n",
    "                    dataset=gp_regression_dataset, \n",
    "                    device=device,\n",
    "                    session_id=session_id)\n",
    "\n",
    "# Run in parallel\n",
    "models = {}\n",
    "likelihoods = {}\n",
    "losses = {}\n",
    "\n",
    "# Use number of workers based on CPU cores, but not too many to avoid memory issues\n",
    "max_workers = min(4, os.cpu_count())\n",
    "with concurrent.futures.ThreadPoolExecutor(max_workers=max_workers) as executor:\n",
    "    # Process all trajectories in parallel\n",
    "    trajectory_indices = list(range(num_trajectories))\n",
    "    results = list(executor.map(process_fn, trajectory_indices))\n",
    "    \n",
    "    # Collect results (only store successful ones)\n",
    "    for mmsi, model, likelihood, loss in results:\n",
    "        if model is not None:\n",
    "            models[mmsi] = model\n",
    "            likelihoods[mmsi] = likelihood\n",
    "            losses[mmsi] = loss\n",
    "\n",
    "print(f\"Successfully processed {len(models)}/{num_trajectories} trajectories\")"
   ]
  },
  {
   "cell_type": "markdown",
   "id": "fb64c32b",
   "metadata": {},
   "source": [
    "### Assess a single model kernel"
   ]
  },
  {
   "cell_type": "code",
   "execution_count": 23,
   "id": "b3348467",
   "metadata": {},
   "outputs": [
    {
     "name": "stdout",
     "output_type": "stream",
     "text": [
      "Parameter name: likelihood.raw_task_noises                 value = [-0.0500163808465004, -0.05000694468617439, -0.050007060170173645, -0.05000057816505432, -0.05002611503005028, -0.050008244812488556]\n",
      "Parameter name: likelihood.raw_noise                       value = [-0.05001334846019745]\n",
      "Parameter name: mean_module.base_means.0.raw_constant      value = -0.050014328211545944\n",
      "Parameter name: mean_module.base_means.1.raw_constant      value = -0.0480039082467556\n",
      "Parameter name: mean_module.base_means.2.raw_constant      value = -0.04996304586529732\n",
      "Parameter name: mean_module.base_means.3.raw_constant      value = 0.05002221092581749\n",
      "Parameter name: mean_module.base_means.4.raw_constant      value = 0.049979910254478455\n",
      "Parameter name: mean_module.base_means.5.raw_constant      value = 0.049248844385147095\n",
      "Parameter name: base_kernel.raw_m                          value = 11.512925148010254\n",
      "Parameter name: base_kernel.raw_I                          value = 6.907755374908447\n",
      "Parameter name: base_kernel.force_kernels.0.raw_outputscale value = 0.5413248538970947\n",
      "Parameter name: base_kernel.force_kernels.0.base_kernel.raw_lengthscale value = [[0.5413248538970947]]\n",
      "Parameter name: base_kernel.force_kernels.1.raw_outputscale value = 0.5413248538970947\n",
      "Parameter name: base_kernel.force_kernels.1.base_kernel.raw_lengthscale value = [[0.5413248538970947]]\n",
      "Parameter name: base_kernel.force_kernels.2.raw_outputscale value = 0.5413248538970947\n",
      "Parameter name: base_kernel.force_kernels.2.base_kernel.raw_lengthscale value = [[0.5413248538970947]]\n",
      "Parameter name: covar_module.task_covar_module.covar_factor value = [[-0.0041693709790706635], [-1.7202873229980469], [-0.12347155809402466], [-1.4204564094543457], [0.7333266139030457], [-0.22605028748512268]]\n",
      "Parameter name: covar_module.task_covar_module.raw_var     value = [-1.120589256286621, 1.6396468877792358, 1.272729754447937, -1.8214101791381836, -1.705641269683838, 0.5429447293281555]\n",
      "\n"
     ]
    }
   ],
   "source": [
    "model = next(iter(models.values()))  # Get one of the models for demonstration\n",
    "for param_name, param in model.named_parameters():\n",
    "    print(f'Parameter name: {param_name:42} value = {param.tolist()}')\n",
    "    \n",
    "print()\n",
    "# print(model.covar_module.data_covar_module.kernels[0].lengthscale.item())"
   ]
  },
  {
   "cell_type": "markdown",
   "id": "cd35f77d",
   "metadata": {},
   "source": [
    "### Plot GP Solution"
   ]
  },
  {
   "cell_type": "code",
   "execution_count": 24,
   "id": "77a2fe0e",
   "metadata": {},
   "outputs": [
    {
     "data": {
      "application/vnd.jupyter.widget-view+json": {
       "model_id": "98d063f8eee7414c9d9653b50aa82bdc",
       "version_major": 2,
       "version_minor": 0
      },
      "text/plain": [
       "interactive(children=(Dropdown(description='MMSI:', options=(205717000,), value=205717000), Output()), _dom_cl…"
      ]
     },
     "metadata": {},
     "output_type": "display_data"
    },
    {
     "data": {
      "text/plain": [
       "<function __main__.plot_for_mmsi(selected_mmsi)>"
      ]
     },
     "execution_count": 24,
     "metadata": {},
     "output_type": "execute_result"
    }
   ],
   "source": [
    "import ipywidgets as widgets\n",
    "from IPython.display import display, clear_output\n",
    "from plotting_utils import *\n",
    "\n",
    "\n",
    "def plot_for_mmsi(selected_mmsi):\n",
    "    clear_output(wait=True)\n",
    "    model = models[selected_mmsi]\n",
    "    likelihood = likelihoods[selected_mmsi]\n",
    "    # Get the corresponding data for this MMSI\n",
    "    times, state_trajectory = None, None\n",
    "    for entry in gp_regression_dataset:\n",
    "        if entry[0] == selected_mmsi:\n",
    "            _, times, state_trajectory = entry\n",
    "            break\n",
    "    if times is None:\n",
    "        print(\"No data for MMSI:\", selected_mmsi)\n",
    "        return\n",
    "\n",
    "    train_X = times.clone().detach().unsqueeze(1).cpu()\n",
    "    train_Y = state_trajectory.clone().detach().cpu()\n",
    "    test_X = torch.linspace(times.min(), times.max(), 5).unsqueeze(1).to(device)\n",
    "    test_Y = eval_model(model, likelihood, test_X)\n",
    "\n",
    "    plot_gp(train_X, train_Y, test_X, test_Y)\n",
    "    plot_single_ship_path(selected_mmsi, times, state_trajectory.cpu().numpy())\n",
    "\n",
    "    \n",
    "mmsi_dropdown = widgets.Dropdown(\n",
    "    options=list(models.keys()),\n",
    "    description='MMSI:',\n",
    "    disabled=False,\n",
    ")\n",
    "\n",
    "widgets.interact(plot_for_mmsi, selected_mmsi=mmsi_dropdown)\n",
    "    \n",
    "    \n",
    "    "
   ]
  },
  {
   "cell_type": "code",
   "execution_count": null,
   "id": "184358b1",
   "metadata": {},
   "outputs": [
    {
     "name": "stdout",
     "output_type": "stream",
     "text": [
      "[367669550 367118980 636018568 ... 367619000 309108000 368926390]\n"
     ]
    },
    {
     "data": {
      "text/plain": [
       "'Other'"
      ]
     },
     "execution_count": 8,
     "metadata": {},
     "output_type": "execute_result"
    }
   ],
   "source": [
    "print(pd.unique(gp_regression_dataset.df['MMSI'].values))\n",
    "gp_regression_dataset.get_vessel_group_by_mmsi(3660489)"
   ]
  },
  {
   "cell_type": "markdown",
   "id": "2b57b1a0",
   "metadata": {},
   "source": [
    "## Create the kernel param to ship mmsi dataset\n"
   ]
  },
  {
   "cell_type": "code",
   "execution_count": null,
   "id": "3702e440",
   "metadata": {},
   "outputs": [],
   "source": [
    "kernel_classification_dataset = GPKernelShipClassificationDataset(gp_regression_dataset, models, device, scalers_by_mmsi=gp_regression_dataset.scalers_by_mmsi)\n",
    "unique_group_ids = kernel_classification_dataset.get_unique_group_ids()\n",
    "\n",
    "train_classification_dataset, test_classification_dataset = torch.utils.data.random_split(kernel_classification_dataset, [0.8, 0.2])\n",
    "train_loader = torch.utils.data.DataLoader(train_classification_dataset, batch_size=32, shuffle=True)\n",
    "test_loader = torch.utils.data.DataLoader(test_classification_dataset, batch_size=32, shuffle=False)"
   ]
  },
  {
   "cell_type": "code",
   "execution_count": null,
   "id": "fe5abb40",
   "metadata": {},
   "outputs": [],
   "source": [
    "# torch.save(kernel_classification_dataset, 'kernel_classification_dataset.pt')\n",
    "save_dict = {\n",
    "    \"kernel_classification_dataset\": kernel_classification_dataset,  # Only if this is safe to pickle!\n",
    "    \"models_state_dict\": {k: v.state_dict() for k, v in models.items()},\n",
    "    \"likelihoods_state_dict\": {k: v.state_dict() for k, v in likelihoods.items()},\n",
    "    \"losses\": losses,\n",
    "}\n",
    "torch.save(save_dict, \"kernel_classification_bundle.pt\")"
   ]
  },
  {
   "cell_type": "markdown",
   "id": "4fcd143d",
   "metadata": {},
   "source": [
    "## Train the classification model"
   ]
  },
  {
   "cell_type": "code",
   "execution_count": null,
   "id": "8fb38217",
   "metadata": {},
   "outputs": [
    {
     "name": "stderr",
     "output_type": "stream",
     "text": [
      "GP Kernel Ship Classification Training: 100%|██████████| 500/500 [01:20<00:00,  6.25it/s]"
     ]
    },
    {
     "name": "stdout",
     "output_type": "stream",
     "text": [
      "Epoch 500/500 | Train Loss: 1.6226 | Train Acc: 0.3663 | Test Loss: 1.6634 | Test Acc: 0.3754\n"
     ]
    },
    {
     "name": "stderr",
     "output_type": "stream",
     "text": [
      "\n"
     ]
    }
   ],
   "source": [
    "from gp_kernel_ship_classification_network import GPKernelShipClassificationNetwork\n",
    "model = GPKernelShipClassificationNetwork(input_dim=2, num_classes=max(unique_group_ids) + 1).to(device)  # +1 for background class\n",
    "\n",
    "criterion = torch.nn.CrossEntropyLoss()\n",
    "optimizer = torch.optim.Adam(model.parameters(), lr=0.01)\n",
    "\n",
    "trainer = GPKernelShipClassificationTrainer(model, train_loader, test_loader, criterion, optimizer, device)\n",
    "trainer.train(num_epochs=500)"
   ]
  },
  {
   "cell_type": "markdown",
   "id": "8a846aa1",
   "metadata": {},
   "source": [
    "## Predictions"
   ]
  },
  {
   "cell_type": "code",
   "execution_count": null,
   "id": "10957274",
   "metadata": {},
   "outputs": [
    {
     "data": {
      "image/png": "[encoded data removed]",
      "text/plain": [
       "<Figure size 640x480 with 2 Axes>"
      ]
     },
     "metadata": {},
     "output_type": "display_data"
    }
   ],
   "source": [
    "from sklearn.metrics import confusion_matrix, ConfusionMatrixDisplay\n",
    "import matplotlib.pyplot as plt\n",
    "import torch\n",
    "\n",
    "all_preds = []\n",
    "all_labels = []\n",
    "\n",
    "model.eval()\n",
    "with torch.no_grad():\n",
    "    for batch in test_loader:\n",
    "        mmsi, X, y = batch  # adjust if your batch is structured differently\n",
    "        X, y = X.to(device), y.to(device)\n",
    "        outputs = model(X)\n",
    "        preds = outputs.argmax(dim=1).cpu().numpy()\n",
    "        all_preds.extend(preds)\n",
    "        all_labels.extend(y.cpu().numpy())\n",
    "\n",
    "# Compute confusion matrix\n",
    "cm = confusion_matrix(all_labels, all_preds)\n",
    "disp = ConfusionMatrixDisplay(confusion_matrix=cm)\n",
    "disp.plot(cmap='Blues')\n",
    "plt.show()"
   ]
  },
  {
   "cell_type": "code",
   "execution_count": null,
   "id": "18691fd6",
   "metadata": {},
   "outputs": [
    {
     "data": {
      "image/png": "[encoded data removed]",
      "text/plain": [
       "<Figure size 800x600 with 2 Axes>"
      ]
     },
     "metadata": {},
     "output_type": "display_data"
    }
   ],
   "source": [
    "from sklearn.manifold import TSNE\n",
    "import matplotlib.pyplot as plt\n",
    "import torch\n",
    "\n",
    "# Collect all features (X) and labels (y) from the test set\n",
    "all_features = []\n",
    "all_labels = []\n",
    "\n",
    "model.eval()\n",
    "with torch.no_grad():\n",
    "    for batch in test_loader:\n",
    "        mmsi, X, y = batch\n",
    "        all_features.append(X.cpu())\n",
    "        all_labels.extend(y.cpu().numpy())\n",
    "\n",
    "# Stack all features into a single array\n",
    "all_features = torch.cat(all_features, dim=0).numpy()\n",
    "all_labels = np.array(all_labels)\n",
    "\n",
    "# Run t-SNE\n",
    "tsne = TSNE(n_components=2, random_state=42)\n",
    "features_2d = tsne.fit_transform(all_features)\n",
    "\n",
    "# Plot\n",
    "plt.figure(figsize=(8, 6))\n",
    "scatter = plt.scatter(features_2d[:, 0], features_2d[:, 1], c=all_labels, cmap='tab10', alpha=0.7)\n",
    "plt.colorbar(scatter, label='True Class')\n",
    "plt.title('t-SNE of Kernel Parameters')\n",
    "plt.xlabel('t-SNE 1')\n",
    "plt.ylabel('t-SNE 2')\n",
    "plt.show()"
   ]
  },
  {
   "cell_type": "markdown",
   "id": "cb1c3101",
   "metadata": {},
   "source": [
    "## Kernel Fix\n",
    "\n",
    "Let's add a quick fix for the StateSpaceKernel initialization error:"
   ]
  },
  {
   "cell_type": "code",
   "execution_count": null,
   "id": "1113ceee",
   "metadata": {},
   "outputs": [
    {
     "name": "stdout",
     "output_type": "stream",
     "text": [
      "StateSpaceKernel initialization fixed!\n"
     ]
    }
   ],
   "source": [
    "# Fix the initialization issue in StateSpaceKernel\n",
    "# This ensures the cache_lock is created before _setup_system_matrices is called\n",
    "\n",
    "def fix_state_space_kernel():\n",
    "    # Get the original __init__ method\n",
    "    original_init = StateSpaceKernel.__init__\n",
    "    \n",
    "    # Define a new __init__ method that creates cache_lock first\n",
    "    def new_init(self, timesteps, m=1E5, I=1E3, q=1.0, r=1.0, dt=1.0):\n",
    "        # Initialize cache lock before calling the rest of initialization\n",
    "        self.cache_lock = threading.Lock()\n",
    "        \n",
    "        # Call the original __init__\n",
    "        original_init(self, timesteps, m, I, q, r, dt)\n",
    "    \n",
    "    # Replace the __init__ method\n",
    "    StateSpaceKernel.__init__ = new_init\n",
    "    \n",
    "    print(\"StateSpaceKernel initialization fixed!\")\n",
    "\n",
    "# Apply the fix\n",
    "import threading\n",
    "fix_state_space_kernel()"
   ]
  },
  {
   "cell_type": "markdown",
   "id": "6e23eb92",
   "metadata": {},
   "source": [
    "## Fix the State Space Kernel Class\n",
    "\n",
    "Let's fix the kernel initialization issue by directly updating the source file:"
   ]
  },
  {
   "cell_type": "code",
   "execution_count": null,
   "id": "bf86d61a",
   "metadata": {},
   "outputs": [
    {
     "name": "stdout",
     "output_type": "stream",
     "text": [
      "Updated /home/daniel/raytheon-ais-analysis/state_space_kernel.py to fix the cache_lock initialization.\n",
      "StateSpaceKernel module reloaded successfully.\n"
     ]
    }
   ],
   "source": [
    "# Fix the StateSpaceKernel class by updating the source file\n",
    "import os\n",
    "\n",
    "kernel_file_path = '/home/daniel/raytheon-ais-analysis/state_space_kernel.py'\n",
    "with open(kernel_file_path, 'r') as f:\n",
    "    lines = f.readlines()\n",
    "\n",
    "# Find the __init__ method and add cache_lock initialization\n",
    "init_found = False\n",
    "modified_lines = []\n",
    "for line in lines:\n",
    "    if 'def __init__(self, timesteps, m=1E5, I=1E3, q=1.0, r=1.0, dt=1.0):' in line:\n",
    "        init_found = True\n",
    "        modified_lines.append(line)\n",
    "    elif init_found and 'super(StateSpaceKernel, self).__init__()' in line:\n",
    "        # Add cache_lock initialization right after super().__init__()\n",
    "        modified_lines.append(line)\n",
    "        modified_lines.append('        # Create thread lock for cache updates\\n')\n",
    "        modified_lines.append('        self.cache_lock = threading.Lock()\\n')\n",
    "        init_found = False  # Reset flag after modification\n",
    "    else:\n",
    "        modified_lines.append(line)\n",
    "\n",
    "# Make sure threading is imported\n",
    "if 'import threading' not in ''.join(lines):\n",
    "    # Find the imports section and add threading import\n",
    "    for i, line in enumerate(modified_lines):\n",
    "        if line.startswith('import ') and i > 0:\n",
    "            modified_lines.insert(i, 'import threading\\n')\n",
    "            break\n",
    "\n",
    "# Write the modified content back to the file\n",
    "with open(kernel_file_path, 'w') as f:\n",
    "    f.writelines(modified_lines)\n",
    "\n",
    "print(f\"Updated {kernel_file_path} to fix the cache_lock initialization.\")\n",
    "\n",
    "# Reload the module to apply changes\n",
    "import importlib\n",
    "import state_space_kernel\n",
    "importlib.reload(state_space_kernel)\n",
    "from state_space_kernel import StateSpaceKernel\n",
    "\n",
    "print(\"StateSpaceKernel module reloaded successfully.\")"
   ]
  }
 ],
 "metadata": {
  "kernelspec": {
   "display_name": "gp",
   "language": "python",
   "name": "python3"
  },
  "language_info": {
   "codemirror_mode": {
    "name": "ipython",
    "version": 3
   },
   "file_extension": ".py",
   "mimetype": "text/x-python",
   "name": "python",
   "nbconvert_exporter": "python",
   "pygments_lexer": "ipython3",
   "version": "3.13.2"
  }
 },
 "nbformat": 4,
 "nbformat_minor": 5
}
